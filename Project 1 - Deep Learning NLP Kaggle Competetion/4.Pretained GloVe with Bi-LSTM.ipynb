{
 "cells": [
  {
   "cell_type": "markdown",
   "metadata": {
    "id": "VImQ-jRA5rH4"
   },
   "source": [
    "Acknowledgements - https://www.kaggle.com/lakshmi25npathi/imdb-dataset-of-50k-movie-reviews/notebooks"
   ]
  },
  {
   "cell_type": "code",
   "execution_count": null,
   "metadata": {
    "colab": {
     "base_uri": "https://localhost:8080/"
    },
    "executionInfo": {
     "elapsed": 644,
     "status": "ok",
     "timestamp": 1604435835532,
     "user": {
      "displayName": "Nabh Sanjay Mehta",
      "photoUrl": "https://lh3.googleusercontent.com/a-/AOh14Ghw8BSfwc8OzBGTM5fhbQReSUvJjndNEmYbz0NxwQ=s64",
      "userId": "07383015962707534051"
     },
     "user_tz": 360
    },
    "id": "yJjL-mTrDmEh",
    "outputId": "aa6eb890-228c-4126-e565-b172b2b2b3c3"
   },
   "outputs": [
    {
     "name": "stdout",
     "output_type": "stream",
     "text": [
      "Drive already mounted at /content/gdrive; to attempt to forcibly remount, call drive.mount(\"/content/gdrive\", force_remount=True).\n"
     ]
    }
   ],
   "source": [
    "from google.colab import drive\n",
    "drive.mount('/content/gdrive')"
   ]
  },
  {
   "cell_type": "code",
   "execution_count": null,
   "metadata": {
    "id": "HciKD6-ym-qC"
   },
   "outputs": [],
   "source": [
    "import numpy as np # linear algebra\n",
    "import pandas as pd # data processing, CSV file I/O\n",
    "import seaborn as sns # data visualization\n",
    "import matplotlib.pyplot as plt # data visualization\n",
    "from nltk.corpus import stopwords # text preprocessing - stopwords\n",
    "import re, string, unicodedata # text preprocessing - regular expressions, string\n",
    "from bs4 import BeautifulSoup # html processing\n",
    "from wordcloud import WordCloud, STOPWORDS # visualizing word cloud from corpus & ignoring stopwords\n",
    "from collections import Counter # counter for most common words\n",
    "from sklearn.feature_extraction.text import CountVectorizer # feature-oriented counting of words\n",
    "from sklearn.model_selection import train_test_split # splitting the dataset into train & test sets\n",
    "from keras.preprocessing import text, sequence # word tokenization\n",
    "from keras.models import Sequential # class to construct the model\n",
    "from keras.layers import Embedding, Bidirectional, LSTM, Dense, Dropout, Flatten # RNN layers to be used\n",
    "from keras.optimizers import Adam # optimizer to be used\n",
    "from keras.callbacks import ReduceLROnPlateau # learning rate decay on plateau"
   ]
  },
  {
   "cell_type": "code",
   "execution_count": null,
   "metadata": {
    "id": "kC_ANq1RL9SZ"
   },
   "outputs": [],
   "source": [
    "!pip install -q kaggle"
   ]
  },
  {
   "cell_type": "code",
   "execution_count": null,
   "metadata": {
    "id": "_dyxbWQfL9Pg"
   },
   "outputs": [],
   "source": [
    "from google.colab import files"
   ]
  },
  {
   "cell_type": "code",
   "execution_count": null,
   "metadata": {
    "colab": {
     "base_uri": "https://localhost:8080/",
     "height": 109,
     "resources": {
      "http://localhost:8080/nbextensions/google.colab/files.js": {
       "data": "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",
       "headers": [
        [
         "content-type",
         "application/javascript"
        ]
       ],
       "ok": true,
       "status": 200,
       "status_text": ""
      }
     }
    },
    "executionInfo": {
     "elapsed": 13543,
     "status": "ok",
     "timestamp": 1604435848460,
     "user": {
      "displayName": "Nabh Sanjay Mehta",
      "photoUrl": "https://lh3.googleusercontent.com/a-/AOh14Ghw8BSfwc8OzBGTM5fhbQReSUvJjndNEmYbz0NxwQ=s64",
      "userId": "07383015962707534051"
     },
     "user_tz": 360
    },
    "id": "oW0_3W-BL9MG",
    "outputId": "2724850d-ed4c-47ef-9cf6-2237507f8532"
   },
   "outputs": [
    {
     "data": {
      "text/html": [
       "\n",
       "     <input type=\"file\" id=\"files-121d83be-d914-41a4-9c5a-fb759d3ce492\" name=\"files[]\" multiple disabled\n",
       "        style=\"border:none\" />\n",
       "     <output id=\"result-121d83be-d914-41a4-9c5a-fb759d3ce492\">\n",
       "      Upload widget is only available when the cell has been executed in the\n",
       "      current browser session. Please rerun this cell to enable.\n",
       "      </output>\n",
       "      <script src=\"/nbextensions/google.colab/files.js\"></script> "
      ],
      "text/plain": [
       "<IPython.core.display.HTML object>"
      ]
     },
     "metadata": {
      "tags": []
     },
     "output_type": "display_data"
    },
    {
     "name": "stdout",
     "output_type": "stream",
     "text": [
      "Saving kaggle.json to kaggle (1).json\n"
     ]
    },
    {
     "data": {
      "text/plain": [
       "{'kaggle.json': b'{\"username\":\"nabhsanjaymehtautd\",\"key\":\"ee0e2e2e8b50d345f23e44404b090088\"}'}"
      ]
     },
     "execution_count": 5,
     "metadata": {
      "tags": []
     },
     "output_type": "execute_result"
    }
   ],
   "source": [
    "files.upload()"
   ]
  },
  {
   "cell_type": "code",
   "execution_count": null,
   "metadata": {
    "colab": {
     "base_uri": "https://localhost:8080/"
    },
    "executionInfo": {
     "elapsed": 13533,
     "status": "ok",
     "timestamp": 1604435848461,
     "user": {
      "displayName": "Nabh Sanjay Mehta",
      "photoUrl": "https://lh3.googleusercontent.com/a-/AOh14Ghw8BSfwc8OzBGTM5fhbQReSUvJjndNEmYbz0NxwQ=s64",
      "userId": "07383015962707534051"
     },
     "user_tz": 360
    },
    "id": "U1Fvf31TL9Jp",
    "outputId": "ef7e28d6-f683-41bd-e4b6-d3f4c2fa232b"
   },
   "outputs": [
    {
     "name": "stdout",
     "output_type": "stream",
     "text": [
      "mkdir: cannot create directory ‘/root/.kaggle/’: File exists\n"
     ]
    }
   ],
   "source": [
    "!mkdir ~/.kaggle/"
   ]
  },
  {
   "cell_type": "code",
   "execution_count": null,
   "metadata": {
    "id": "26XP3TTHL9GX"
   },
   "outputs": [],
   "source": [
    "!cp kaggle.json ~/.kaggle/"
   ]
  },
  {
   "cell_type": "code",
   "execution_count": null,
   "metadata": {
    "id": "LvmE2q5NL9Du"
   },
   "outputs": [],
   "source": [
    "!chmod 60 ~/.kaggle/kaggle.json"
   ]
  },
  {
   "cell_type": "code",
   "execution_count": null,
   "metadata": {
    "colab": {
     "base_uri": "https://localhost:8080/"
    },
    "executionInfo": {
     "elapsed": 13916,
     "status": "ok",
     "timestamp": 1604435848862,
     "user": {
      "displayName": "Nabh Sanjay Mehta",
      "photoUrl": "https://lh3.googleusercontent.com/a-/AOh14Ghw8BSfwc8OzBGTM5fhbQReSUvJjndNEmYbz0NxwQ=s64",
      "userId": "07383015962707534051"
     },
     "user_tz": 360
    },
    "id": "ktwO8dYVL9AV",
    "outputId": "8cb80372-aaf1-45f6-f050-159bc281776a"
   },
   "outputs": [
    {
     "name": "stdout",
     "output_type": "stream",
     "text": [
      "Warning: Your Kaggle API key is readable by other users on this system! To fix this, you can run 'chmod 600 /root/.kaggle/kaggle.json'\n",
      "Warning: Looks like you're using an outdated API Version, please consider updating (server 1.5.9 / client 1.5.4)\n",
      "ref                                                       title                                               size  lastUpdated          downloadCount  \n",
      "--------------------------------------------------------  -------------------------------------------------  -----  -------------------  -------------  \n",
      "terenceshin/covid19s-impact-on-airport-traffic            COVID-19's Impact on Airport Traffic               106KB  2020-10-19 12:40:17           1885  \n",
      "sootersaalu/amazon-top-50-bestselling-books-2009-2019     Amazon Top 50 Bestselling Books 2009 - 2019         15KB  2020-10-13 09:39:21           1810  \n",
      "thomaskonstantin/highly-rated-children-books-and-stories  Highly Rated Children Books And Stories            106KB  2020-10-24 12:09:59            379  \n",
      "tunguz/euro-parliament-proceedings-1996-2011              Euro Parliament Proceedings 1996 - 2011              1GB  2020-10-26 17:48:29             26  \n",
      "rishidamarla/judicial-expenditures-across-all-50-states   Judicial Expenditures across all 50 States           2KB  2020-10-25 00:07:45            235  \n",
      "docstein/brics-world-bank-indicators                      BRICS World Bank Indicators                          4MB  2020-10-22 12:18:40            397  \n",
      "kanishk307/6000-indian-food-recipes-dataset               6000+ Indian Food Recipes Dataset                    9MB  2020-10-24 01:08:23            475  \n",
      "elvinagammed/chatbots-intent-recognition-dataset          Chatbots: Intent Recognition Dataset                17KB  2020-10-23 07:44:59            196  \n",
      "omarhanyy/500-greatest-songs-of-all-time                  500 Greatest Songs of All Time                      33KB  2020-10-26 13:36:09            484  \n",
      "balraj98/synthetic-objective-testing-set-sots-reside      Synthetic Objective Testing Set (SOTS) [RESIDE]    415MB  2020-10-24 10:07:29             53  \n",
      "lunamcbride24/pokemon-type-matchup-data                   Pokemon Type Matchup Data                            9KB  2020-10-14 18:56:23            288  \n",
      "gaurav2796/kaggle-competions-rankings-and-kernels         Kaggle Competions, Rankings and Kernels            698KB  2020-10-15 04:05:15             37  \n",
      "balraj98/indoor-training-set-its-residestandard           Indoor Training Set (ITS) [RESIDE-Standard]          5GB  2020-10-24 10:07:30             37  \n",
      "romazepa/moscow-schools-winners-of-educational-olympiads  Moscow schools - winners of educational Olympiads    1MB  2020-10-12 21:45:01             58  \n",
      "sootersaalu/nigerian-songs-spotify                        Nigerian Songs Spotify                              24KB  2020-10-25 19:10:23             68  \n",
      "salmaneunus/mechanical-tools-dataset                      Mechanical Tools Classification Dataset            652MB  2020-11-01 11:28:22            178  \n",
      "thanatoz/hinglish-blogs                                   Hinglish blogs                                       2MB  2020-10-13 18:16:05             12  \n",
      "shivamb/netflix-shows                                     Netflix Movies and TV Shows                        971KB  2020-01-20 07:33:56          53154  \n",
      "nehaprabhavalkar/indian-food-101                          Indian Food 101                                      7KB  2020-09-30 06:23:43           6057  \n",
      "heeraldedhia/groceries-dataset                            Groceries dataset                                  257KB  2020-09-17 04:36:08           6282  \n"
     ]
    }
   ],
   "source": [
    "!kaggle datasets list"
   ]
  },
  {
   "cell_type": "code",
   "execution_count": null,
   "metadata": {
    "colab": {
     "base_uri": "https://localhost:8080/"
    },
    "executionInfo": {
     "elapsed": 15159,
     "status": "ok",
     "timestamp": 1604435850113,
     "user": {
      "displayName": "Nabh Sanjay Mehta",
      "photoUrl": "https://lh3.googleusercontent.com/a-/AOh14Ghw8BSfwc8OzBGTM5fhbQReSUvJjndNEmYbz0NxwQ=s64",
      "userId": "07383015962707534051"
     },
     "user_tz": 360
    },
    "id": "MZdfPEU3L89n",
    "outputId": "01b41831-8a7b-48c1-8317-7da1862dfe15"
   },
   "outputs": [
    {
     "name": "stdout",
     "output_type": "stream",
     "text": [
      "Warning: Your Kaggle API key is readable by other users on this system! To fix this, you can run 'chmod 600 /root/.kaggle/kaggle.json'\n",
      "Warning: Looks like you're using an outdated API Version, please consider updating (server 1.5.9 / client 1.5.4)\n",
      "train.csv.zip: Skipping, found more recently modified local copy (use --force to force download)\n",
      "test.csv: Skipping, found more recently modified local copy (use --force to force download)\n",
      "sample_submission.csv: Skipping, found more recently modified local copy (use --force to force download)\n"
     ]
    }
   ],
   "source": [
    "!kaggle competitions download -c transferlearning-dl-spring2020"
   ]
  },
  {
   "cell_type": "code",
   "execution_count": null,
   "metadata": {
    "colab": {
     "base_uri": "https://localhost:8080/"
    },
    "executionInfo": {
     "elapsed": 24470,
     "status": "ok",
     "timestamp": 1604435859434,
     "user": {
      "displayName": "Nabh Sanjay Mehta",
      "photoUrl": "https://lh3.googleusercontent.com/a-/AOh14Ghw8BSfwc8OzBGTM5fhbQReSUvJjndNEmYbz0NxwQ=s64",
      "userId": "07383015962707534051"
     },
     "user_tz": 360
    },
    "id": "vlV4qJxvL86b",
    "outputId": "dc625822-57dc-4948-dee4-50b3e7540b6b"
   },
   "outputs": [
    {
     "name": "stdout",
     "output_type": "stream",
     "text": [
      "Archive:  train.csv.zip\n",
      "replace train/train.csv? [y]es, [n]o, [A]ll, [N]one, [r]ename: y\n",
      "  inflating: train/train.csv         \n"
     ]
    }
   ],
   "source": [
    "!unzip train.csv.zip -d train"
   ]
  },
  {
   "cell_type": "code",
   "execution_count": null,
   "metadata": {
    "id": "reNDu7J_u701"
   },
   "outputs": [],
   "source": [
    "data = pd.read_csv('/content/train/train.csv', encoding = \"ISO-8859-1\")\n",
    "testdata = pd.read_csv('/content/test.csv', encoding=\"ISO-8859-1\")"
   ]
  },
  {
   "cell_type": "code",
   "execution_count": null,
   "metadata": {
    "colab": {
     "base_uri": "https://localhost:8080/",
     "height": 204
    },
    "executionInfo": {
     "elapsed": 24457,
     "status": "ok",
     "timestamp": 1604435859436,
     "user": {
      "displayName": "Nabh Sanjay Mehta",
      "photoUrl": "https://lh3.googleusercontent.com/a-/AOh14Ghw8BSfwc8OzBGTM5fhbQReSUvJjndNEmYbz0NxwQ=s64",
      "userId": "07383015962707534051"
     },
     "user_tz": 360
    },
    "id": "EgmBriPWu7yG",
    "outputId": "96297468-20a4-4ff4-b92c-bace10297632"
   },
   "outputs": [
    {
     "data": {
      "text/html": [
       "<div>\n",
       "<style scoped>\n",
       "    .dataframe tbody tr th:only-of-type {\n",
       "        vertical-align: middle;\n",
       "    }\n",
       "\n",
       "    .dataframe tbody tr th {\n",
       "        vertical-align: top;\n",
       "    }\n",
       "\n",
       "    .dataframe thead th {\n",
       "        text-align: right;\n",
       "    }\n",
       "</style>\n",
       "<table border=\"1\" class=\"dataframe\">\n",
       "  <thead>\n",
       "    <tr style=\"text-align: right;\">\n",
       "      <th></th>\n",
       "      <th>id</th>\n",
       "      <th>text</th>\n",
       "      <th>target</th>\n",
       "    </tr>\n",
       "  </thead>\n",
       "  <tbody>\n",
       "    <tr>\n",
       "      <th>0</th>\n",
       "      <td>86426</td>\n",
       "      <td>@USER She should ask a few native Americans wh...</td>\n",
       "      <td>1</td>\n",
       "    </tr>\n",
       "    <tr>\n",
       "      <th>1</th>\n",
       "      <td>16820</td>\n",
       "      <td>Amazon is investigating Chinese employees who ...</td>\n",
       "      <td>0</td>\n",
       "    </tr>\n",
       "    <tr>\n",
       "      <th>2</th>\n",
       "      <td>62688</td>\n",
       "      <td>@USER Someone should'veTaken\" this piece of sh...</td>\n",
       "      <td>1</td>\n",
       "    </tr>\n",
       "    <tr>\n",
       "      <th>3</th>\n",
       "      <td>43605</td>\n",
       "      <td>@USER @USER Obama wanted liberals &amp;amp; illega...</td>\n",
       "      <td>0</td>\n",
       "    </tr>\n",
       "    <tr>\n",
       "      <th>4</th>\n",
       "      <td>97670</td>\n",
       "      <td>@USER Liberals are all Kookoo !!!</td>\n",
       "      <td>1</td>\n",
       "    </tr>\n",
       "  </tbody>\n",
       "</table>\n",
       "</div>"
      ],
      "text/plain": [
       "      id                                               text  target\n",
       "0  86426  @USER She should ask a few native Americans wh...       1\n",
       "1  16820  Amazon is investigating Chinese employees who ...       0\n",
       "2  62688  @USER Someone should'veTaken\" this piece of sh...       1\n",
       "3  43605  @USER @USER Obama wanted liberals &amp; illega...       0\n",
       "4  97670                  @USER Liberals are all Kookoo !!!       1"
      ]
     },
     "execution_count": 13,
     "metadata": {
      "tags": []
     },
     "output_type": "execute_result"
    }
   ],
   "source": [
    "data.head()"
   ]
  },
  {
   "cell_type": "code",
   "execution_count": null,
   "metadata": {
    "colab": {
     "base_uri": "https://localhost:8080/",
     "height": 350
    },
    "executionInfo": {
     "elapsed": 25255,
     "status": "ok",
     "timestamp": 1604435860243,
     "user": {
      "displayName": "Nabh Sanjay Mehta",
      "photoUrl": "https://lh3.googleusercontent.com/a-/AOh14Ghw8BSfwc8OzBGTM5fhbQReSUvJjndNEmYbz0NxwQ=s64",
      "userId": "07383015962707534051"
     },
     "user_tz": 360
    },
    "id": "yIWVdD7dDl_u",
    "outputId": "f8f18beb-6cf0-4aeb-fa5d-e6a2d8c7ae71"
   },
   "outputs": [
    {
     "name": "stderr",
     "output_type": "stream",
     "text": [
      "/usr/local/lib/python3.6/dist-packages/seaborn/_decorators.py:43: FutureWarning: Pass the following variable as a keyword arg: x. From version 0.12, the only valid positional argument will be `data`, and passing other arguments without an explicit keyword will result in an error or misinterpretation.\n",
      "  FutureWarning\n"
     ]
    },
    {
     "data": {
      "text/plain": [
       "<matplotlib.axes._subplots.AxesSubplot at 0x7f8768f4d630>"
      ]
     },
     "execution_count": 14,
     "metadata": {
      "tags": []
     },
     "output_type": "execute_result"
    },
    {
     "data": {
      "image/png": "[encoded data removed]",
      "text/plain": [
       "<Figure size 432x288 with 1 Axes>"
      ]
     },
     "metadata": {
      "tags": []
     },
     "output_type": "display_data"
    }
   ],
   "source": [
    "sns.set_style('darkgrid')\n",
    "sns.countplot(data.target)"
   ]
  },
  {
   "cell_type": "code",
   "execution_count": null,
   "metadata": {
    "colab": {
     "base_uri": "https://localhost:8080/"
    },
    "executionInfo": {
     "elapsed": 25246,
     "status": "ok",
     "timestamp": 1604435860244,
     "user": {
      "displayName": "Nabh Sanjay Mehta",
      "photoUrl": "https://lh3.googleusercontent.com/a-/AOh14Ghw8BSfwc8OzBGTM5fhbQReSUvJjndNEmYbz0NxwQ=s64",
      "userId": "07383015962707534051"
     },
     "user_tz": 360
    },
    "id": "ZOzdUPpUnY3m",
    "outputId": "e231bfc6-0041-44f6-9c6a-08a65430bc83"
   },
   "outputs": [
    {
     "name": "stdout",
     "output_type": "stream",
     "text": [
      "[nltk_data] Downloading package stopwords to /root/nltk_data...\n",
      "[nltk_data]   Package stopwords is already up-to-date!\n"
     ]
    },
    {
     "data": {
      "text/plain": [
       "True"
      ]
     },
     "execution_count": 15,
     "metadata": {
      "tags": []
     },
     "output_type": "execute_result"
    }
   ],
   "source": [
    "import nltk\n",
    "nltk.download('stopwords')"
   ]
  },
  {
   "cell_type": "code",
   "execution_count": null,
   "metadata": {
    "id": "ouDKGw_2Dl77"
   },
   "outputs": [],
   "source": [
    "stop = set(stopwords.words('english'))\n",
    "punctuation = list(string.punctuation)\n",
    "stop.update(punctuation)"
   ]
  },
  {
   "cell_type": "code",
   "execution_count": null,
   "metadata": {
    "id": "jTK0O4KVDl5W"
   },
   "outputs": [],
   "source": [
    "def strip_html(text):\n",
    "    soup = BeautifulSoup(text, \"html.parser\")\n",
    "    return soup.get_text()\n",
    "\n",
    "#Removing the square brackets\n",
    "def remove_between_square_brackets(text):\n",
    "    return re.sub('\\[[^]]*\\]', '', text)\n",
    "# Removing URL's\n",
    "def remove_between_square_brackets(text):\n",
    "    return re.sub(r'http\\S+', '', text)\n",
    "#Removing the stopwords from text\n",
    "def remove_stopwords(text):\n",
    "    final_text = []\n",
    "    for i in text.split():\n",
    "        if i.strip().lower() not in stop and i.strip().lower().isalpha():\n",
    "            final_text.append(i.strip().lower())\n",
    "    return \" \".join(final_text)\n",
    "#Removing the noisy text\n",
    "def denoise_text(text):\n",
    "    text = strip_html(text)\n",
    "    text = remove_between_square_brackets(text)\n",
    "    text = remove_stopwords(text)\n",
    "    return text\n",
    "#Apply function on review column\n",
    "data['text']=data['text'].apply(denoise_text)"
   ]
  },
  {
   "cell_type": "code",
   "execution_count": null,
   "metadata": {
    "colab": {
     "base_uri": "https://localhost:8080/",
     "height": 204
    },
    "executionInfo": {
     "elapsed": 25317,
     "status": "ok",
     "timestamp": 1604435860335,
     "user": {
      "displayName": "Nabh Sanjay Mehta",
      "photoUrl": "https://lh3.googleusercontent.com/a-/AOh14Ghw8BSfwc8OzBGTM5fhbQReSUvJjndNEmYbz0NxwQ=s64",
      "userId": "07383015962707534051"
     },
     "user_tz": 360
    },
    "id": "KcbdSiIaDl3E",
    "outputId": "202a2a67-1bb6-4e99-a9e5-0cbac2d23008"
   },
   "outputs": [
    {
     "data": {
      "text/html": [
       "<div>\n",
       "<style scoped>\n",
       "    .dataframe tbody tr th:only-of-type {\n",
       "        vertical-align: middle;\n",
       "    }\n",
       "\n",
       "    .dataframe tbody tr th {\n",
       "        vertical-align: top;\n",
       "    }\n",
       "\n",
       "    .dataframe thead th {\n",
       "        text-align: right;\n",
       "    }\n",
       "</style>\n",
       "<table border=\"1\" class=\"dataframe\">\n",
       "  <thead>\n",
       "    <tr style=\"text-align: right;\">\n",
       "      <th></th>\n",
       "      <th>id</th>\n",
       "      <th>text</th>\n",
       "      <th>target</th>\n",
       "    </tr>\n",
       "  </thead>\n",
       "  <tbody>\n",
       "    <tr>\n",
       "      <th>0</th>\n",
       "      <td>86426</td>\n",
       "      <td>ask native americans take</td>\n",
       "      <td>1</td>\n",
       "    </tr>\n",
       "    <tr>\n",
       "      <th>1</th>\n",
       "      <td>16820</td>\n",
       "      <td>amazon investigating chinese employees selling...</td>\n",
       "      <td>0</td>\n",
       "    </tr>\n",
       "    <tr>\n",
       "      <th>2</th>\n",
       "      <td>62688</td>\n",
       "      <td>someone piece shit</td>\n",
       "      <td>1</td>\n",
       "    </tr>\n",
       "    <tr>\n",
       "      <th>3</th>\n",
       "      <td>43605</td>\n",
       "      <td>obama wanted liberals illegals move red states</td>\n",
       "      <td>0</td>\n",
       "    </tr>\n",
       "    <tr>\n",
       "      <th>4</th>\n",
       "      <td>97670</td>\n",
       "      <td>liberals kookoo</td>\n",
       "      <td>1</td>\n",
       "    </tr>\n",
       "  </tbody>\n",
       "</table>\n",
       "</div>"
      ],
      "text/plain": [
       "      id                                               text  target\n",
       "0  86426                          ask native americans take       1\n",
       "1  16820  amazon investigating chinese employees selling...       0\n",
       "2  62688                                 someone piece shit       1\n",
       "3  43605     obama wanted liberals illegals move red states       0\n",
       "4  97670                                    liberals kookoo       1"
      ]
     },
     "execution_count": 18,
     "metadata": {
      "tags": []
     },
     "output_type": "execute_result"
    }
   ],
   "source": [
    "data.head()"
   ]
  },
  {
   "cell_type": "code",
   "execution_count": null,
   "metadata": {
    "colab": {
     "base_uri": "https://localhost:8080/",
     "height": 516
    },
    "executionInfo": {
     "elapsed": 26100,
     "status": "ok",
     "timestamp": 1604435861130,
     "user": {
      "displayName": "Nabh Sanjay Mehta",
      "photoUrl": "https://lh3.googleusercontent.com/a-/AOh14Ghw8BSfwc8OzBGTM5fhbQReSUvJjndNEmYbz0NxwQ=s64",
      "userId": "07383015962707534051"
     },
     "user_tz": 360
    },
    "id": "-HndqM53Dlz_",
    "outputId": "e156796d-2871-4c8f-b6d3-c6a7f2c8cc24"
   },
   "outputs": [
    {
     "data": {
      "text/plain": [
       "Text(0.5, 0.98, 'Character Count in Reviews')"
      ]
     },
     "execution_count": 19,
     "metadata": {
      "tags": []
     },
     "output_type": "execute_result"
    },
    {
     "data": {
      "image/png": "[encoded data removed]",
      "text/plain": [
       "<Figure size 864x576 with 2 Axes>"
      ]
     },
     "metadata": {
      "tags": []
     },
     "output_type": "display_data"
    }
   ],
   "source": [
    "fig, (ax1, ax2) = plt.subplots(1,2, figsize=(12, 8))\n",
    "text_len = data[data['target'] == 1]['text'].str.len()\n",
    "ax1.set_title('Positive Reviews')\n",
    "ax1.hist(text_len, color='green')\n",
    "text_len = data[data['target'] == 0]['text'].str.len()\n",
    "ax2.set_title('Negative Reviews')\n",
    "ax2.hist(text_len, color='red')\n",
    "fig.suptitle('Character Count in Reviews')"
   ]
  },
  {
   "cell_type": "code",
   "execution_count": null,
   "metadata": {
    "id": "VJg3c9-ADlwM"
   },
   "outputs": [],
   "source": [
    "def get_top_ngrams(corpus, n, g):\n",
    "    \n",
    "    vec = CountVectorizer(ngram_range=(g, g)).fit(corpus)\n",
    "    bag_of_words = vec.transform(corpus)\n",
    "    sum_words = bag_of_words.sum(axis=0) \n",
    "    words_freq = [(word, sum_words[0, idx]) for word, idx in vec.vocabulary_.items()]\n",
    "    words_freq =sorted(words_freq, key = lambda x: x[1], reverse=True)\n",
    "    return words_freq[:n]"
   ]
  },
  {
   "cell_type": "code",
   "execution_count": null,
   "metadata": {
    "colab": {
     "base_uri": "https://localhost:8080/",
     "height": 368
    },
    "executionInfo": {
     "elapsed": 27331,
     "status": "ok",
     "timestamp": 1604435862377,
     "user": {
      "displayName": "Nabh Sanjay Mehta",
      "photoUrl": "https://lh3.googleusercontent.com/a-/AOh14Ghw8BSfwc8OzBGTM5fhbQReSUvJjndNEmYbz0NxwQ=s64",
      "userId": "07383015962707534051"
     },
     "user_tz": 360
    },
    "id": "BzUdIIL6Dlr1",
    "outputId": "8d4ba99c-da64-42ab-c0a6-001a367cd4e8"
   },
   "outputs": [
    {
     "data": {
      "text/plain": [
       "<matplotlib.axes._subplots.AxesSubplot at 0x7f8737dfdef0>"
      ]
     },
     "execution_count": 21,
     "metadata": {
      "tags": []
     },
     "output_type": "execute_result"
    },
    {
     "data": {
      "image/png": "[encoded data removed]",
      "text/plain": [
       "<Figure size 1152x648 with 1 Axes>"
      ]
     },
     "metadata": {
      "tags": []
     },
     "output_type": "display_data"
    }
   ],
   "source": [
    "plt.figure(figsize=(16, 9))\n",
    "most_common_uni = dict(get_top_ngrams(data.text, 20, 3))\n",
    "sns.barplot(x=list(most_common_uni.values()), y=list(most_common_uni.keys()))"
   ]
  },
  {
   "cell_type": "code",
   "execution_count": null,
   "metadata": {
    "id": "85Hwub8HDlpy"
   },
   "outputs": [],
   "source": [
    "X_train, X_test, y_train, y_test = train_test_split(data.text, data.target, \n",
    "                                                    train_size=0.9, \n",
    "                                                    random_state=0)\n",
    "X_test_temp = X_test\n",
    "y_test_temp = y_test"
   ]
  },
  {
   "cell_type": "code",
   "execution_count": null,
   "metadata": {
    "id": "QmAoZcZiDlmd"
   },
   "outputs": [],
   "source": [
    "max_features = 10000\n",
    "max_len = 128\n",
    "\n",
    "tokenizer = text.Tokenizer(num_words=max_features)\n",
    "tokenizer.fit_on_texts(X_train)\n",
    "\n",
    "tokenized_train = tokenizer.texts_to_sequences(X_train)\n",
    "X_train = sequence.pad_sequences(tokenized_train, maxlen=max_len)\n",
    "\n",
    "tokenized_test = tokenizer.texts_to_sequences(X_test)\n",
    "X_test = sequence.pad_sequences(tokenized_test, maxlen=max_len)"
   ]
  },
  {
   "cell_type": "code",
   "execution_count": null,
   "metadata": {
    "colab": {
     "base_uri": "https://localhost:8080/"
    },
    "executionInfo": {
     "elapsed": 419490,
     "status": "ok",
     "timestamp": 1604436254556,
     "user": {
      "displayName": "Nabh Sanjay Mehta",
      "photoUrl": "https://lh3.googleusercontent.com/a-/AOh14Ghw8BSfwc8OzBGTM5fhbQReSUvJjndNEmYbz0NxwQ=s64",
      "userId": "07383015962707534051"
     },
     "user_tz": 360
    },
    "id": "UFQe-5SwDlkG",
    "outputId": "30babcf9-fc74-4d9f-fba6-2ce878f7e9cc"
   },
   "outputs": [
    {
     "name": "stdout",
     "output_type": "stream",
     "text": [
      "--2020-11-03 20:37:41--  http://nlp.stanford.edu/data/glove.6B.zip\n",
      "Resolving nlp.stanford.edu (nlp.stanford.edu)... 171.64.67.140\n",
      "Connecting to nlp.stanford.edu (nlp.stanford.edu)|171.64.67.140|:80... connected.\n",
      "HTTP request sent, awaiting response... 302 Found\n",
      "Location: https://nlp.stanford.edu/data/glove.6B.zip [following]\n",
      "--2020-11-03 20:37:41--  https://nlp.stanford.edu/data/glove.6B.zip\n",
      "Connecting to nlp.stanford.edu (nlp.stanford.edu)|171.64.67.140|:443... connected.\n",
      "HTTP request sent, awaiting response... 301 Moved Permanently\n",
      "Location: http://downloads.cs.stanford.edu/nlp/data/glove.6B.zip [following]\n",
      "--2020-11-03 20:37:41--  http://downloads.cs.stanford.edu/nlp/data/glove.6B.zip\n",
      "Resolving downloads.cs.stanford.edu (downloads.cs.stanford.edu)... 171.64.64.22\n",
      "Connecting to downloads.cs.stanford.edu (downloads.cs.stanford.edu)|171.64.64.22|:80... connected.\n",
      "HTTP request sent, awaiting response... 200 OK\n",
      "Length: 862182613 (822M) [application/zip]\n",
      "Saving to: ‘glove.6B.zip.2’\n",
      "\n",
      "glove.6B.zip.2      100%[===================>] 822.24M  2.13MB/s    in 6m 32s  \n",
      "\n",
      "2020-11-03 20:44:13 (2.10 MB/s) - ‘glove.6B.zip.2’ saved [862182613/862182613]\n",
      "\n"
     ]
    }
   ],
   "source": [
    "!wget http://nlp.stanford.edu/data/glove.6B.zip"
   ]
  },
  {
   "cell_type": "code",
   "execution_count": null,
   "metadata": {
    "colab": {
     "base_uri": "https://localhost:8080/"
    },
    "executionInfo": {
     "elapsed": 459015,
     "status": "ok",
     "timestamp": 1604436294089,
     "user": {
      "displayName": "Nabh Sanjay Mehta",
      "photoUrl": "https://lh3.googleusercontent.com/a-/AOh14Ghw8BSfwc8OzBGTM5fhbQReSUvJjndNEmYbz0NxwQ=s64",
      "userId": "07383015962707534051"
     },
     "user_tz": 360
    },
    "id": "14Pgf778Dlej",
    "outputId": "73732def-31e6-4333-c7b9-70c92174a5b0"
   },
   "outputs": [
    {
     "name": "stdout",
     "output_type": "stream",
     "text": [
      "Archive:  glove.6B.zip\n",
      "replace glove.6B.50d.txt? [y]es, [n]o, [A]ll, [N]one, [r]ename: y\n",
      "  inflating: glove.6B.50d.txt        \n",
      "replace glove.6B.100d.txt? [y]es, [n]o, [A]ll, [N]one, [r]ename: y\n",
      "  inflating: glove.6B.100d.txt       \n",
      "replace glove.6B.200d.txt? [y]es, [n]o, [A]ll, [N]one, [r]ename: y\n",
      "  inflating: glove.6B.200d.txt       \n",
      "replace glove.6B.300d.txt? [y]es, [n]o, [A]ll, [N]one, [r]ename: y\n",
      "  inflating: glove.6B.300d.txt       \n"
     ]
    }
   ],
   "source": [
    "!unzip glove*.zip"
   ]
  },
  {
   "cell_type": "code",
   "execution_count": null,
   "metadata": {
    "colab": {
     "base_uri": "https://localhost:8080/"
    },
    "executionInfo": {
     "elapsed": 459264,
     "status": "ok",
     "timestamp": 1604436294346,
     "user": {
      "displayName": "Nabh Sanjay Mehta",
      "photoUrl": "https://lh3.googleusercontent.com/a-/AOh14Ghw8BSfwc8OzBGTM5fhbQReSUvJjndNEmYbz0NxwQ=s64",
      "userId": "07383015962707534051"
     },
     "user_tz": 360
    },
    "id": "uVM1TozQDlcK",
    "outputId": "86359e3b-ed9a-4ddb-f315-3b31bd0e5ab5"
   },
   "outputs": [
    {
     "name": "stdout",
     "output_type": "stream",
     "text": [
      " gdrive\t\t     glove.6B.50d.txt  'kaggle (1).json'        test.csv\n",
      " glove.6B.100d.txt   glove.6B.zip       kaggle.json\t        train\n",
      " glove.6B.200d.txt   glove.6B.zip.1     sample_data\t        train.csv.zip\n",
      " glove.6B.300d.txt   glove.6B.zip.2     sample_submission.csv\n",
      "/content\n"
     ]
    }
   ],
   "source": [
    "!ls\n",
    "!pwd"
   ]
  },
  {
   "cell_type": "code",
   "execution_count": null,
   "metadata": {
    "id": "ZzWqUa80DlaN"
   },
   "outputs": [],
   "source": [
    "EMBEDDING_FILE =\"/content/glove.6B.300d.txt\""
   ]
  },
  {
   "cell_type": "code",
   "execution_count": null,
   "metadata": {
    "id": "ad6eH56WDlWt"
   },
   "outputs": [],
   "source": [
    "def get_coeffs(word, *arr):\n",
    "    return word, np.asarray(arr, dtype='float32')\n",
    "embeddings_dict = dict(get_coeffs(*o.rstrip().rsplit(' ')) for o in open(EMBEDDING_FILE))"
   ]
  },
  {
   "cell_type": "code",
   "execution_count": null,
   "metadata": {
    "colab": {
     "base_uri": "https://localhost:8080/"
    },
    "executionInfo": {
     "elapsed": 487594,
     "status": "ok",
     "timestamp": 1604436322695,
     "user": {
      "displayName": "Nabh Sanjay Mehta",
      "photoUrl": "https://lh3.googleusercontent.com/a-/AOh14Ghw8BSfwc8OzBGTM5fhbQReSUvJjndNEmYbz0NxwQ=s64",
      "userId": "07383015962707534051"
     },
     "user_tz": 360
    },
    "id": "ak1MjD0RDlUt",
    "outputId": "05541784-9514-40e7-a936-f2019af69deb"
   },
   "outputs": [
    {
     "name": "stderr",
     "output_type": "stream",
     "text": [
      "/usr/local/lib/python3.6/dist-packages/IPython/core/interactiveshell.py:2822: FutureWarning: arrays to stack must be passed as a \"sequence\" type such as list or tuple. Support for non-sequence iterables such as generators is deprecated as of NumPy 1.16 and will raise an error in the future.\n",
      "  if self.run_code(code, result):\n"
     ]
    }
   ],
   "source": [
    "all_embs = np.stack(embeddings_dict.values())\n",
    "emb_mean, emb_std = all_embs.mean(), all_embs.std()\n",
    "embed_size = all_embs.shape[1]\n",
    "\n",
    "word_index = tokenizer.word_index\n",
    "num_words = min(max_features, len(word_index))\n",
    "\n",
    "embedding_matrix = np.random.normal(emb_mean, emb_std, (num_words, embed_size))\n",
    "\n",
    "for word, i in word_index.items():\n",
    "    \n",
    "    if i >= num_words: continue\n",
    "    embedding_vector = embeddings_dict.get(word)\n",
    "    if embedding_vector is not None: embedding_matrix[i] = embedding_vector"
   ]
  },
  {
   "cell_type": "code",
   "execution_count": null,
   "metadata": {
    "id": "kM-B569YDlRP"
   },
   "outputs": [],
   "source": [
    "batch_size = 256\n",
    "epochs=10\n",
    "embed_size=300"
   ]
  },
  {
   "cell_type": "code",
   "execution_count": null,
   "metadata": {
    "id": "cJMt6au8DlPB"
   },
   "outputs": [],
   "source": [
    "learning_rate_reduction = ReduceLROnPlateau(monitor='val_loss', patience=2, verbose=1, factor=0.5, min_lr=0.00001)"
   ]
  },
  {
   "cell_type": "code",
   "execution_count": null,
   "metadata": {
    "id": "K7hnRS990PFn"
   },
   "outputs": [],
   "source": [
    "from keras import backend as K"
   ]
  },
  {
   "cell_type": "code",
   "execution_count": null,
   "metadata": {
    "id": "YgIM8o2Bz-Gp"
   },
   "outputs": [],
   "source": [
    "def f_score(y_true, y_pred, threshold=0.1, beta=2):\n",
    "\n",
    "    tp = tp_score(y_true, y_pred, threshold)\n",
    "    fp = fp_score(y_true, y_pred, threshold)\n",
    "    fn = fn_score(y_true, y_pred, threshold)\n",
    "\n",
    "    precision = tp / (tp + fp)\n",
    "    recall = tp / (tp + fn)\n",
    "    return (1+beta**2) * ((precision * recall) / ((beta**2)*precision + recall))"
   ]
  },
  {
   "cell_type": "code",
   "execution_count": null,
   "metadata": {
    "id": "XU8sbm-20JXe"
   },
   "outputs": [],
   "source": [
    "def tp_score(y_true, y_pred, threshold=0.1):\n",
    "\n",
    "    tp_3d = K.concatenate(\n",
    "        [\n",
    "            K.cast(K.expand_dims(K.flatten(y_true)), 'bool'),\n",
    "            K.cast(K.expand_dims(K.flatten(K.greater(y_pred, K.constant(threshold)))), 'bool'),\n",
    "            K.cast(K.ones_like(K.expand_dims(K.flatten(y_pred))), 'bool')\n",
    "        ], axis=1\n",
    "    )\n",
    "\n",
    "    tp = K.sum(K.cast(K.all(tp_3d, axis=1), 'int32'))\n",
    "\n",
    "    return tp\n",
    "\n",
    "\n",
    "def fp_score(y_true, y_pred, threshold=0.1):\n",
    "\n",
    "    fp_3d = K.concatenate(\n",
    "        [\n",
    "            K.cast(K.expand_dims(K.flatten(K.abs(y_true - K.ones_like(y_true)))), 'bool'),\n",
    "            K.cast(K.expand_dims(K.flatten(K.greater(y_pred, K.constant(threshold)))), 'bool'),\n",
    "            K.cast(K.ones_like(K.expand_dims(K.flatten(y_pred))), 'bool')\n",
    "        ], axis=-1\n",
    "    )\n",
    "\n",
    "    fp = K.sum(K.cast(K.all(fp_3d, axis=1), 'int32'))\n",
    "\n",
    "    return fp\n",
    "\n",
    "\n",
    "def fn_score(y_true, y_pred, threshold=0.1):\n",
    "\n",
    "    fn_3d = K.concatenate(\n",
    "        [\n",
    "            K.cast(K.expand_dims(K.flatten(y_true)), 'bool'),\n",
    "            K.cast(K.expand_dims(K.flatten(K.abs(K.cast(K.greater(y_pred, K.constant(threshold)), 'float') - K.ones_like(y_pred)))), 'bool'),\n",
    "            K.cast(K.ones_like(K.expand_dims(K.flatten(y_pred))), 'bool')\n",
    "        ], axis=1\n",
    "    )\n",
    "\n",
    "    fn = K.sum(K.cast(K.all(fn_3d, axis=1), 'int32'))\n",
    "\n",
    "    return fn\n",
    "\n",
    "\n",
    "def precision_score(y_true, y_pred, threshold=0.1):\n",
    "\n",
    "    tp = tp_score(y_true, y_pred, threshold)\n",
    "    fp = fp_score(y_true, y_pred, threshold)\n",
    "\n",
    "    return tp / (tp + fp)\n",
    "\n",
    "\n",
    "def recall_score(y_true, y_pred, threshold=0.1):\n",
    "\n",
    "    tp = tp_score(y_true, y_pred, threshold)\n",
    "    fn = fn_score(y_true, y_pred, threshold)\n",
    "\n",
    "    return tp / (tp + fn)"
   ]
  },
  {
   "cell_type": "code",
   "execution_count": null,
   "metadata": {
    "id": "Y0hmJxtQDlM1"
   },
   "outputs": [],
   "source": [
    "model = Sequential()\n",
    "\n",
    "model.add(Embedding(max_features, output_dim=embed_size, weights=[embedding_matrix], input_length=max_len, trainable=False))\n",
    "model.add(Bidirectional(LSTM(units=128)))\n",
    "model.add(Dropout(rate=0.8))\n",
    "model.add(Dense(units=16, activation='relu'))\n",
    "model.add(Dense(units=1, activation='sigmoid'))\n",
    "\n",
    "model.compile(optimizer=Adam(lr=0.002), loss='binary_crossentropy', \n",
    "              metrics=f_score)"
   ]
  },
  {
   "cell_type": "code",
   "execution_count": null,
   "metadata": {
    "colab": {
     "base_uri": "https://localhost:8080/"
    },
    "executionInfo": {
     "elapsed": 488923,
     "status": "ok",
     "timestamp": 1604436324065,
     "user": {
      "displayName": "Nabh Sanjay Mehta",
      "photoUrl": "https://lh3.googleusercontent.com/a-/AOh14Ghw8BSfwc8OzBGTM5fhbQReSUvJjndNEmYbz0NxwQ=s64",
      "userId": "07383015962707534051"
     },
     "user_tz": 360
    },
    "id": "TIpvhMZnDlK7",
    "outputId": "65f41ff6-4bcd-488a-9675-e8553ff4c42b"
   },
   "outputs": [
    {
     "name": "stdout",
     "output_type": "stream",
     "text": [
      "Model: \"sequential\"\n",
      "_________________________________________________________________\n",
      "Layer (type)                 Output Shape              Param #   \n",
      "=================================================================\n",
      "embedding (Embedding)        (None, 128, 300)          3000000   \n",
      "_________________________________________________________________\n",
      "bidirectional (Bidirectional (None, 256)               439296    \n",
      "_________________________________________________________________\n",
      "dropout (Dropout)            (None, 256)               0         \n",
      "_________________________________________________________________\n",
      "dense (Dense)                (None, 16)                4112      \n",
      "_________________________________________________________________\n",
      "dense_1 (Dense)              (None, 1)                 17        \n",
      "=================================================================\n",
      "Total params: 3,443,425\n",
      "Trainable params: 443,425\n",
      "Non-trainable params: 3,000,000\n",
      "_________________________________________________________________\n"
     ]
    }
   ],
   "source": [
    "model.summary()"
   ]
  },
  {
   "cell_type": "code",
   "execution_count": null,
   "metadata": {
    "colab": {
     "base_uri": "https://localhost:8080/"
    },
    "executionInfo": {
     "elapsed": 511536,
     "status": "ok",
     "timestamp": 1604436346687,
     "user": {
      "displayName": "Nabh Sanjay Mehta",
      "photoUrl": "https://lh3.googleusercontent.com/a-/AOh14Ghw8BSfwc8OzBGTM5fhbQReSUvJjndNEmYbz0NxwQ=s64",
      "userId": "07383015962707534051"
     },
     "user_tz": 360
    },
    "id": "emJyzxXeDlHi",
    "outputId": "a408da97-f63c-4375-9bfc-76594e84bfe6"
   },
   "outputs": [
    {
     "name": "stdout",
     "output_type": "stream",
     "text": [
      "Epoch 1/10\n",
      "33/33 [==============================] - 2s 73ms/step - loss: 0.6321 - f_score: 0.7129 - val_loss: 0.5864 - val_f_score: 0.7172\n",
      "Epoch 2/10\n",
      "33/33 [==============================] - 2s 48ms/step - loss: 0.5678 - f_score: 0.7190 - val_loss: 0.5355 - val_f_score: 0.7180\n",
      "Epoch 3/10\n",
      "33/33 [==============================] - 2s 48ms/step - loss: 0.5366 - f_score: 0.7190 - val_loss: 0.5132 - val_f_score: 0.7203\n",
      "Epoch 4/10\n",
      "33/33 [==============================] - 2s 48ms/step - loss: 0.5190 - f_score: 0.7280 - val_loss: 0.5102 - val_f_score: 0.7290\n",
      "Epoch 5/10\n",
      "33/33 [==============================] - 2s 48ms/step - loss: 0.5085 - f_score: 0.7302 - val_loss: 0.5158 - val_f_score: 0.7342\n",
      "Epoch 6/10\n",
      "33/33 [==============================] - 2s 48ms/step - loss: 0.4942 - f_score: 0.7346 - val_loss: 0.5067 - val_f_score: 0.7297\n",
      "Epoch 7/10\n",
      "33/33 [==============================] - 2s 48ms/step - loss: 0.4860 - f_score: 0.7389 - val_loss: 0.5085 - val_f_score: 0.7313\n",
      "Epoch 8/10\n",
      "33/33 [==============================] - ETA: 0s - loss: 0.4653 - f_score: 0.7451\n",
      "Epoch 00008: ReduceLROnPlateau reducing learning rate to 0.0010000000474974513.\n",
      "33/33 [==============================] - 2s 48ms/step - loss: 0.4653 - f_score: 0.7451 - val_loss: 0.5075 - val_f_score: 0.7339\n",
      "Epoch 9/10\n",
      "33/33 [==============================] - 2s 48ms/step - loss: 0.4461 - f_score: 0.7519 - val_loss: 0.5250 - val_f_score: 0.7306\n",
      "Epoch 10/10\n",
      "33/33 [==============================] - ETA: 0s - loss: 0.4260 - f_score: 0.7619\n",
      "Epoch 00010: ReduceLROnPlateau reducing learning rate to 0.0005000000237487257.\n",
      "33/33 [==============================] - 2s 48ms/step - loss: 0.4260 - f_score: 0.7619 - val_loss: 0.5382 - val_f_score: 0.7306\n"
     ]
    }
   ],
   "source": [
    "history = model.fit(X_train, y_train, epochs=epochs, batch_size=batch_size, validation_data=(X_test, y_test), callbacks=[learning_rate_reduction])"
   ]
  },
  {
   "cell_type": "code",
   "execution_count": null,
   "metadata": {
    "colab": {
     "base_uri": "https://localhost:8080/"
    },
    "executionInfo": {
     "elapsed": 513831,
     "status": "ok",
     "timestamp": 1604436348990,
     "user": {
      "displayName": "Nabh Sanjay Mehta",
      "photoUrl": "https://lh3.googleusercontent.com/a-/AOh14Ghw8BSfwc8OzBGTM5fhbQReSUvJjndNEmYbz0NxwQ=s64",
      "userId": "07383015962707534051"
     },
     "user_tz": 360
    },
    "id": "WLV8rZBzDlEd",
    "outputId": "cff89163-168f-47ff-cd01-16991ba965d3"
   },
   "outputs": [
    {
     "name": "stdout",
     "output_type": "stream",
     "text": [
      "263/263 [==============================] - 2s 8ms/step - loss: 0.3937 - f_score: 0.7533\n",
      "Model Accuracy on Training Data:  75 %\n",
      "30/30 [==============================] - 0s 7ms/step - loss: 0.5382 - f_score: 0.7171\n",
      "Model Accuraccy on Testing Data:  72 %\n"
     ]
    }
   ],
   "source": [
    "print(\"Model Accuracy on Training Data: \", round(model.evaluate(X_train, y_train)[1]*100), \"%\")\n",
    "print(\"Model Accuraccy on Testing Data: \", round(model.evaluate(X_test, y_test)[1]*100), \"%\")"
   ]
  },
  {
   "cell_type": "code",
   "execution_count": null,
   "metadata": {
    "colab": {
     "base_uri": "https://localhost:8080/"
    },
    "executionInfo": {
     "elapsed": 229,
     "status": "ok",
     "timestamp": 1604436566421,
     "user": {
      "displayName": "Nabh Sanjay Mehta",
      "photoUrl": "https://lh3.googleusercontent.com/a-/AOh14Ghw8BSfwc8OzBGTM5fhbQReSUvJjndNEmYbz0NxwQ=s64",
      "userId": "07383015962707534051"
     },
     "user_tz": 360
    },
    "id": "AgvWUxW_3xaa",
    "outputId": "2297d592-d9c0-4f3b-fee1-afa79535ba13"
   },
   "outputs": [
    {
     "data": {
      "text/plain": [
       "{'f_score': [0.7128528952598572,\n",
       "  0.7189640998840332,\n",
       "  0.7189900875091553,\n",
       "  0.7280216217041016,\n",
       "  0.7301872372627258,\n",
       "  0.7346366047859192,\n",
       "  0.7388955354690552,\n",
       "  0.745067298412323,\n",
       "  0.7518593072891235,\n",
       "  0.7619423270225525],\n",
       " 'loss': [0.632097601890564,\n",
       "  0.5678114891052246,\n",
       "  0.5365914106369019,\n",
       "  0.5190249681472778,\n",
       "  0.5085451006889343,\n",
       "  0.49418380856513977,\n",
       "  0.48599594831466675,\n",
       "  0.46534425020217896,\n",
       "  0.4460606575012207,\n",
       "  0.4260425567626953],\n",
       " 'lr': [0.002, 0.002, 0.002, 0.002, 0.002, 0.002, 0.002, 0.002, 0.001, 0.001],\n",
       " 'val_f_score': [0.7171559929847717,\n",
       "  0.7179653644561768,\n",
       "  0.7203402519226074,\n",
       "  0.729023814201355,\n",
       "  0.7342402338981628,\n",
       "  0.7296569347381592,\n",
       "  0.7313453555107117,\n",
       "  0.7338710427284241,\n",
       "  0.7306410074234009,\n",
       "  0.7306411862373352],\n",
       " 'val_loss': [0.5863938331604004,\n",
       "  0.5354620218276978,\n",
       "  0.5131537318229675,\n",
       "  0.5101721882820129,\n",
       "  0.515751302242279,\n",
       "  0.5066903233528137,\n",
       "  0.5085200667381287,\n",
       "  0.5074759721755981,\n",
       "  0.5249583721160889,\n",
       "  0.5382400751113892]}"
      ]
     },
     "execution_count": 56,
     "metadata": {
      "tags": []
     },
     "output_type": "execute_result"
    }
   ],
   "source": [
    "history.history"
   ]
  },
  {
   "cell_type": "code",
   "execution_count": null,
   "metadata": {
    "colab": {
     "base_uri": "https://localhost:8080/",
     "height": 339
    },
    "executionInfo": {
     "elapsed": 891,
     "status": "ok",
     "timestamp": 1604436545060,
     "user": {
      "displayName": "Nabh Sanjay Mehta",
      "photoUrl": "https://lh3.googleusercontent.com/a-/AOh14Ghw8BSfwc8OzBGTM5fhbQReSUvJjndNEmYbz0NxwQ=s64",
      "userId": "07383015962707534051"
     },
     "user_tz": 360
    },
    "id": "-honfoiiDlCX",
    "outputId": "19a1f61d-a561-49d8-8fa3-e555feecc644"
   },
   "outputs": [
    {
     "data": {
      "text/plain": [
       "<matplotlib.legend.Legend at 0x7f86cec5df98>"
      ]
     },
     "execution_count": 55,
     "metadata": {
      "tags": []
     },
     "output_type": "execute_result"
    },
    {
     "data": {
      "image/png": "[encoded data removed]",
      "text/plain": [
       "<Figure size 1296x576 with 2 Axes>"
      ]
     },
     "metadata": {
      "tags": []
     },
     "output_type": "display_data"
    }
   ],
   "source": [
    "fig, (ax1, ax2) = plt.subplots(1, 2, figsize=(18, 8))\n",
    "ax1.plot(history.history['f_score'])\n",
    "ax1.plot(history.history['val_f_score'])\n",
    "ax1.set_title('Training & Testing Accuracy')\n",
    "ax1.set_xlabel('Epochs')\n",
    "ax1.set_ylabel('Accuracy')\n",
    "ax1.legend(['accuracy', 'val_f_score'])\n",
    "ax2.plot(history.history['loss'])\n",
    "ax2.plot(history.history['val_loss'])\n",
    "ax2.set_title('Training & Testing Loss')\n",
    "ax1.set_xlabel('Epochs')\n",
    "ax1.set_ylabel('Loss')\n",
    "ax2.legend(['loss', 'val_loss'])"
   ]
  },
  {
   "cell_type": "code",
   "execution_count": null,
   "metadata": {
    "id": "v_i26dI0kf9I"
   },
   "outputs": [],
   "source": [
    "testdata['text']=testdata['text'].apply(denoise_text)"
   ]
  },
  {
   "cell_type": "code",
   "execution_count": null,
   "metadata": {
    "id": "Vd3m0D9VDk_C"
   },
   "outputs": [],
   "source": [
    "testdata_X = testdata['text']"
   ]
  },
  {
   "cell_type": "code",
   "execution_count": null,
   "metadata": {
    "colab": {
     "base_uri": "https://localhost:8080/"
    },
    "executionInfo": {
     "elapsed": 513915,
     "status": "ok",
     "timestamp": 1604436349097,
     "user": {
      "displayName": "Nabh Sanjay Mehta",
      "photoUrl": "https://lh3.googleusercontent.com/a-/AOh14Ghw8BSfwc8OzBGTM5fhbQReSUvJjndNEmYbz0NxwQ=s64",
      "userId": "07383015962707534051"
     },
     "user_tz": 360
    },
    "id": "sJ_0PdkiDk5-",
    "outputId": "ab995864-0dbf-4260-fb48-874842be1056"
   },
   "outputs": [
    {
     "data": {
      "text/plain": [
       "0                                 go home url\n",
       "1                                    oh tough\n",
       "2    canada need another already enough great\n",
       "3           scare every playing hockey warped\n",
       "4                  throwing bullshit flag url\n",
       "Name: text, dtype: object"
      ]
     },
     "execution_count": 42,
     "metadata": {
      "tags": []
     },
     "output_type": "execute_result"
    }
   ],
   "source": [
    "testdata_X.head()"
   ]
  },
  {
   "cell_type": "code",
   "execution_count": null,
   "metadata": {
    "id": "_-8zvwn1kTb8"
   },
   "outputs": [],
   "source": []
  },
  {
   "cell_type": "code",
   "execution_count": null,
   "metadata": {
    "id": "gQFdM9ehDk4G"
   },
   "outputs": [],
   "source": [
    "max_features = 10000\n",
    "max_len = 128\n",
    "\n",
    "tokenizer = text.Tokenizer(num_words=max_features)\n",
    "tokenizer.fit_on_texts(testdata_X)\n",
    "\n",
    "tokenized_train = tokenizer.texts_to_sequences(testdata_X)\n",
    "testdata_X = sequence.pad_sequences(tokenized_train, maxlen=max_len)\n"
   ]
  },
  {
   "cell_type": "code",
   "execution_count": null,
   "metadata": {
    "id": "lIPC9DUTDk0u"
   },
   "outputs": [],
   "source": [
    "predictions = model.predict(testdata_X)"
   ]
  },
  {
   "cell_type": "code",
   "execution_count": null,
   "metadata": {
    "colab": {
     "base_uri": "https://localhost:8080/"
    },
    "executionInfo": {
     "elapsed": 515437,
     "status": "ok",
     "timestamp": 1604436350643,
     "user": {
      "displayName": "Nabh Sanjay Mehta",
      "photoUrl": "https://lh3.googleusercontent.com/a-/AOh14Ghw8BSfwc8OzBGTM5fhbQReSUvJjndNEmYbz0NxwQ=s64",
      "userId": "07383015962707534051"
     },
     "user_tz": 360
    },
    "id": "CzOoGebDoIC4",
    "outputId": "f9a0a6a0-f272-455d-d8e9-936d4b010e45"
   },
   "outputs": [
    {
     "data": {
      "text/plain": [
       "numpy.ndarray"
      ]
     },
     "execution_count": 45,
     "metadata": {
      "tags": []
     },
     "output_type": "execute_result"
    }
   ],
   "source": [
    "type(predictions)"
   ]
  },
  {
   "cell_type": "code",
   "execution_count": null,
   "metadata": {
    "id": "oM2S15nToIKw"
   },
   "outputs": [],
   "source": [
    "submit = pd.DataFrame(data=predictions, columns=['target'])"
   ]
  },
  {
   "cell_type": "code",
   "execution_count": null,
   "metadata": {
    "colab": {
     "base_uri": "https://localhost:8080/",
     "height": 419
    },
    "executionInfo": {
     "elapsed": 515425,
     "status": "ok",
     "timestamp": 1604436350645,
     "user": {
      "displayName": "Nabh Sanjay Mehta",
      "photoUrl": "https://lh3.googleusercontent.com/a-/AOh14Ghw8BSfwc8OzBGTM5fhbQReSUvJjndNEmYbz0NxwQ=s64",
      "userId": "07383015962707534051"
     },
     "user_tz": 360
    },
    "id": "xhy-n-UFoITs",
    "outputId": "df8dfe4d-0fe9-4303-e93d-24abe70f2c1c"
   },
   "outputs": [
    {
     "data": {
      "text/html": [
       "<div>\n",
       "<style scoped>\n",
       "    .dataframe tbody tr th:only-of-type {\n",
       "        vertical-align: middle;\n",
       "    }\n",
       "\n",
       "    .dataframe tbody tr th {\n",
       "        vertical-align: top;\n",
       "    }\n",
       "\n",
       "    .dataframe thead th {\n",
       "        text-align: right;\n",
       "    }\n",
       "</style>\n",
       "<table border=\"1\" class=\"dataframe\">\n",
       "  <thead>\n",
       "    <tr style=\"text-align: right;\">\n",
       "      <th></th>\n",
       "      <th>target</th>\n",
       "    </tr>\n",
       "  </thead>\n",
       "  <tbody>\n",
       "    <tr>\n",
       "      <th>0</th>\n",
       "      <td>0.076413</td>\n",
       "    </tr>\n",
       "    <tr>\n",
       "      <th>1</th>\n",
       "      <td>0.088850</td>\n",
       "    </tr>\n",
       "    <tr>\n",
       "      <th>2</th>\n",
       "      <td>0.309796</td>\n",
       "    </tr>\n",
       "    <tr>\n",
       "      <th>3</th>\n",
       "      <td>0.425224</td>\n",
       "    </tr>\n",
       "    <tr>\n",
       "      <th>4</th>\n",
       "      <td>0.056183</td>\n",
       "    </tr>\n",
       "    <tr>\n",
       "      <th>...</th>\n",
       "      <td>...</td>\n",
       "    </tr>\n",
       "    <tr>\n",
       "      <th>3889</th>\n",
       "      <td>0.150014</td>\n",
       "    </tr>\n",
       "    <tr>\n",
       "      <th>3890</th>\n",
       "      <td>0.072804</td>\n",
       "    </tr>\n",
       "    <tr>\n",
       "      <th>3891</th>\n",
       "      <td>0.651642</td>\n",
       "    </tr>\n",
       "    <tr>\n",
       "      <th>3892</th>\n",
       "      <td>0.563634</td>\n",
       "    </tr>\n",
       "    <tr>\n",
       "      <th>3893</th>\n",
       "      <td>0.096666</td>\n",
       "    </tr>\n",
       "  </tbody>\n",
       "</table>\n",
       "<p>3894 rows × 1 columns</p>\n",
       "</div>"
      ],
      "text/plain": [
       "        target\n",
       "0     0.076413\n",
       "1     0.088850\n",
       "2     0.309796\n",
       "3     0.425224\n",
       "4     0.056183\n",
       "...        ...\n",
       "3889  0.150014\n",
       "3890  0.072804\n",
       "3891  0.651642\n",
       "3892  0.563634\n",
       "3893  0.096666\n",
       "\n",
       "[3894 rows x 1 columns]"
      ]
     },
     "execution_count": 47,
     "metadata": {
      "tags": []
     },
     "output_type": "execute_result"
    }
   ],
   "source": [
    "submit"
   ]
  },
  {
   "cell_type": "code",
   "execution_count": null,
   "metadata": {
    "id": "CY3HyxReuX89"
   },
   "outputs": [],
   "source": [
    "submit1 = pd.DataFrame(data=testdata['id'], columns=['id'])"
   ]
  },
  {
   "cell_type": "code",
   "execution_count": null,
   "metadata": {
    "colab": {
     "base_uri": "https://localhost:8080/",
     "height": 419
    },
    "executionInfo": {
     "elapsed": 515413,
     "status": "ok",
     "timestamp": 1604436350646,
     "user": {
      "displayName": "Nabh Sanjay Mehta",
      "photoUrl": "https://lh3.googleusercontent.com/a-/AOh14Ghw8BSfwc8OzBGTM5fhbQReSUvJjndNEmYbz0NxwQ=s64",
      "userId": "07383015962707534051"
     },
     "user_tz": 360
    },
    "id": "nFJVYq8owIdc",
    "outputId": "02560f89-7472-4127-cb52-74a3aa3b615c"
   },
   "outputs": [
    {
     "data": {
      "text/html": [
       "<div>\n",
       "<style scoped>\n",
       "    .dataframe tbody tr th:only-of-type {\n",
       "        vertical-align: middle;\n",
       "    }\n",
       "\n",
       "    .dataframe tbody tr th {\n",
       "        vertical-align: top;\n",
       "    }\n",
       "\n",
       "    .dataframe thead th {\n",
       "        text-align: right;\n",
       "    }\n",
       "</style>\n",
       "<table border=\"1\" class=\"dataframe\">\n",
       "  <thead>\n",
       "    <tr style=\"text-align: right;\">\n",
       "      <th></th>\n",
       "      <th>id</th>\n",
       "    </tr>\n",
       "  </thead>\n",
       "  <tbody>\n",
       "    <tr>\n",
       "      <th>0</th>\n",
       "      <td>90194</td>\n",
       "    </tr>\n",
       "    <tr>\n",
       "      <th>1</th>\n",
       "      <td>77444</td>\n",
       "    </tr>\n",
       "    <tr>\n",
       "      <th>2</th>\n",
       "      <td>13384</td>\n",
       "    </tr>\n",
       "    <tr>\n",
       "      <th>3</th>\n",
       "      <td>54920</td>\n",
       "    </tr>\n",
       "    <tr>\n",
       "      <th>4</th>\n",
       "      <td>56117</td>\n",
       "    </tr>\n",
       "    <tr>\n",
       "      <th>...</th>\n",
       "      <td>...</td>\n",
       "    </tr>\n",
       "    <tr>\n",
       "      <th>3889</th>\n",
       "      <td>90041</td>\n",
       "    </tr>\n",
       "    <tr>\n",
       "      <th>3890</th>\n",
       "      <td>98824</td>\n",
       "    </tr>\n",
       "    <tr>\n",
       "      <th>3891</th>\n",
       "      <td>95338</td>\n",
       "    </tr>\n",
       "    <tr>\n",
       "      <th>3892</th>\n",
       "      <td>67210</td>\n",
       "    </tr>\n",
       "    <tr>\n",
       "      <th>3893</th>\n",
       "      <td>46552</td>\n",
       "    </tr>\n",
       "  </tbody>\n",
       "</table>\n",
       "<p>3894 rows × 1 columns</p>\n",
       "</div>"
      ],
      "text/plain": [
       "         id\n",
       "0     90194\n",
       "1     77444\n",
       "2     13384\n",
       "3     54920\n",
       "4     56117\n",
       "...     ...\n",
       "3889  90041\n",
       "3890  98824\n",
       "3891  95338\n",
       "3892  67210\n",
       "3893  46552\n",
       "\n",
       "[3894 rows x 1 columns]"
      ]
     },
     "execution_count": 49,
     "metadata": {
      "tags": []
     },
     "output_type": "execute_result"
    }
   ],
   "source": [
    "submit1"
   ]
  },
  {
   "cell_type": "code",
   "execution_count": null,
   "metadata": {
    "id": "vctWruNrDkqA"
   },
   "outputs": [],
   "source": [
    "submit1['target'] = submit['target']"
   ]
  },
  {
   "cell_type": "code",
   "execution_count": null,
   "metadata": {
    "id": "gIeC2YJMDkn2"
   },
   "outputs": [],
   "source": [
    "submit1.to_csv('/content/gdrive/My Drive/submit2.csv', index = False)"
   ]
  },
  {
   "cell_type": "code",
   "execution_count": null,
   "metadata": {
    "colab": {
     "base_uri": "https://localhost:8080/",
     "height": 419
    },
    "executionInfo": {
     "elapsed": 515518,
     "status": "ok",
     "timestamp": 1604436350770,
     "user": {
      "displayName": "Nabh Sanjay Mehta",
      "photoUrl": "https://lh3.googleusercontent.com/a-/AOh14Ghw8BSfwc8OzBGTM5fhbQReSUvJjndNEmYbz0NxwQ=s64",
      "userId": "07383015962707534051"
     },
     "user_tz": 360
    },
    "id": "dKUQXm8XDkl6",
    "outputId": "0ea2dda0-556d-4147-c861-6fa6f1080c22"
   },
   "outputs": [
    {
     "data": {
      "text/html": [
       "<div>\n",
       "<style scoped>\n",
       "    .dataframe tbody tr th:only-of-type {\n",
       "        vertical-align: middle;\n",
       "    }\n",
       "\n",
       "    .dataframe tbody tr th {\n",
       "        vertical-align: top;\n",
       "    }\n",
       "\n",
       "    .dataframe thead th {\n",
       "        text-align: right;\n",
       "    }\n",
       "</style>\n",
       "<table border=\"1\" class=\"dataframe\">\n",
       "  <thead>\n",
       "    <tr style=\"text-align: right;\">\n",
       "      <th></th>\n",
       "      <th>id</th>\n",
       "      <th>target</th>\n",
       "    </tr>\n",
       "  </thead>\n",
       "  <tbody>\n",
       "    <tr>\n",
       "      <th>0</th>\n",
       "      <td>90194</td>\n",
       "      <td>0.076413</td>\n",
       "    </tr>\n",
       "    <tr>\n",
       "      <th>1</th>\n",
       "      <td>77444</td>\n",
       "      <td>0.088850</td>\n",
       "    </tr>\n",
       "    <tr>\n",
       "      <th>2</th>\n",
       "      <td>13384</td>\n",
       "      <td>0.309796</td>\n",
       "    </tr>\n",
       "    <tr>\n",
       "      <th>3</th>\n",
       "      <td>54920</td>\n",
       "      <td>0.425224</td>\n",
       "    </tr>\n",
       "    <tr>\n",
       "      <th>4</th>\n",
       "      <td>56117</td>\n",
       "      <td>0.056183</td>\n",
       "    </tr>\n",
       "    <tr>\n",
       "      <th>...</th>\n",
       "      <td>...</td>\n",
       "      <td>...</td>\n",
       "    </tr>\n",
       "    <tr>\n",
       "      <th>3889</th>\n",
       "      <td>90041</td>\n",
       "      <td>0.150014</td>\n",
       "    </tr>\n",
       "    <tr>\n",
       "      <th>3890</th>\n",
       "      <td>98824</td>\n",
       "      <td>0.072804</td>\n",
       "    </tr>\n",
       "    <tr>\n",
       "      <th>3891</th>\n",
       "      <td>95338</td>\n",
       "      <td>0.651642</td>\n",
       "    </tr>\n",
       "    <tr>\n",
       "      <th>3892</th>\n",
       "      <td>67210</td>\n",
       "      <td>0.563634</td>\n",
       "    </tr>\n",
       "    <tr>\n",
       "      <th>3893</th>\n",
       "      <td>46552</td>\n",
       "      <td>0.096666</td>\n",
       "    </tr>\n",
       "  </tbody>\n",
       "</table>\n",
       "<p>3894 rows × 2 columns</p>\n",
       "</div>"
      ],
      "text/plain": [
       "         id    target\n",
       "0     90194  0.076413\n",
       "1     77444  0.088850\n",
       "2     13384  0.309796\n",
       "3     54920  0.425224\n",
       "4     56117  0.056183\n",
       "...     ...       ...\n",
       "3889  90041  0.150014\n",
       "3890  98824  0.072804\n",
       "3891  95338  0.651642\n",
       "3892  67210  0.563634\n",
       "3893  46552  0.096666\n",
       "\n",
       "[3894 rows x 2 columns]"
      ]
     },
     "execution_count": 52,
     "metadata": {
      "tags": []
     },
     "output_type": "execute_result"
    }
   ],
   "source": [
    "submit1"
   ]
  },
  {
   "cell_type": "code",
   "execution_count": null,
   "metadata": {
    "id": "TCZ3nb9sDkiP"
   },
   "outputs": [],
   "source": []
  },
  {
   "cell_type": "code",
   "execution_count": null,
   "metadata": {
    "id": "KRsGJpTSDkgB"
   },
   "outputs": [],
   "source": []
  },
  {
   "cell_type": "code",
   "execution_count": null,
   "metadata": {
    "id": "pIFDz_7IDkdH"
   },
   "outputs": [],
   "source": []
  },
  {
   "cell_type": "code",
   "execution_count": null,
   "metadata": {
    "id": "YOx4UvGkDkbT"
   },
   "outputs": [],
   "source": []
  },
  {
   "cell_type": "code",
   "execution_count": null,
   "metadata": {
    "id": "L2xKeriJDkYd"
   },
   "outputs": [],
   "source": []
  },
  {
   "cell_type": "code",
   "execution_count": null,
   "metadata": {
    "id": "VWZQ0ugBDkVo"
   },
   "outputs": [],
   "source": []
  },
  {
   "cell_type": "code",
   "execution_count": null,
   "metadata": {
    "id": "vvq2yc6bDkSs"
   },
   "outputs": [],
   "source": []
  },
  {
   "cell_type": "code",
   "execution_count": null,
   "metadata": {
    "id": "fHkbn52EDkQL"
   },
   "outputs": [],
   "source": []
  },
  {
   "cell_type": "code",
   "execution_count": null,
   "metadata": {
    "id": "NnEbNAB7DkOY"
   },
   "outputs": [],
   "source": []
  },
  {
   "cell_type": "code",
   "execution_count": null,
   "metadata": {
    "id": "OBJyVRbZDkLU"
   },
   "outputs": [],
   "source": []
  },
  {
   "cell_type": "code",
   "execution_count": null,
   "metadata": {
    "id": "8skp1mokDkIo"
   },
   "outputs": [],
   "source": []
  },
  {
   "cell_type": "code",
   "execution_count": null,
   "metadata": {
    "id": "o7rdnHSKDkGe"
   },
   "outputs": [],
   "source": []
  },
  {
   "cell_type": "code",
   "execution_count": null,
   "metadata": {
    "id": "rQSfMYa9DkDs"
   },
   "outputs": [],
   "source": []
  },
  {
   "cell_type": "code",
   "execution_count": null,
   "metadata": {
    "id": "GCefY4mCDkBI"
   },
   "outputs": [],
   "source": []
  },
  {
   "cell_type": "code",
   "execution_count": null,
   "metadata": {
    "id": "tEOTVfLeDj-Q"
   },
   "outputs": [],
   "source": []
  },
  {
   "cell_type": "code",
   "execution_count": null,
   "metadata": {
    "id": "fLUiSw8zDj7c"
   },
   "outputs": [],
   "source": []
  },
  {
   "cell_type": "code",
   "execution_count": null,
   "metadata": {
    "id": "ZmjlBgkaDj4b"
   },
   "outputs": [],
   "source": []
  },
  {
   "cell_type": "code",
   "execution_count": null,
   "metadata": {
    "id": "_rprmHsIDda0"
   },
   "outputs": [],
   "source": []
  }
 ],
 "metadata": {
  "accelerator": "GPU",
  "colab": {
   "authorship_tag": "ABX9TyOvEzy4Ga5tnQD06VuENsQJ",
   "collapsed_sections": [],
   "name": "4.Pretained GloVe with Bi-LSTM.ipynb",
   "provenance": []
  },
  "kernelspec": {
   "display_name": "Python 3",
   "language": "python",
   "name": "python3"
  },
  "language_info": {
   "codemirror_mode": {
    "name": "ipython",
    "version": 3
   },
   "file_extension": ".py",
   "mimetype": "text/x-python",
   "name": "python",
   "nbconvert_exporter": "python",
   "pygments_lexer": "ipython3",
   "version": "3.7.4"
  },
  "toc": {
   "base_numbering": 1,
   "nav_menu": {},
   "number_sections": true,
   "sideBar": true,
   "skip_h1_title": false,
   "title_cell": "Table of Contents",
   "title_sidebar": "Contents",
   "toc_cell": false,
   "toc_position": {},
   "toc_section_display": true,
   "toc_window_display": false
  }
 },
 "nbformat": 4,
 "nbformat_minor": 1
}
