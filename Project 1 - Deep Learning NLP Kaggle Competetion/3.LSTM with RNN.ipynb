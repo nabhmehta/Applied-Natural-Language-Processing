{
 "cells": [
  {
   "cell_type": "code",
   "execution_count": 1,
   "metadata": {
    "colab": {
     "base_uri": "https://localhost:8080/"
    },
    "executionInfo": {
     "elapsed": 21555,
     "status": "ok",
     "timestamp": 1604380710864,
     "user": {
      "displayName": "Nabh Sanjay Mehta",
      "photoUrl": "https://lh3.googleusercontent.com/a-/AOh14Ghw8BSfwc8OzBGTM5fhbQReSUvJjndNEmYbz0NxwQ=s64",
      "userId": "07383015962707534051"
     },
     "user_tz": 360
    },
    "id": "17lrP1a9u79Q",
    "outputId": "b4e4b5d5-54e4-4acf-c258-71da614400e3"
   },
   "outputs": [
    {
     "name": "stdout",
     "output_type": "stream",
     "text": [
      "Mounted at /content/gdrive\n"
     ]
    }
   ],
   "source": [
    "from google.colab import drive\n",
    "drive.mount('/content/gdrive')"
   ]
  },
  {
   "cell_type": "code",
   "execution_count": 2,
   "metadata": {
    "executionInfo": {
     "elapsed": 26490,
     "status": "ok",
     "timestamp": 1604380715853,
     "user": {
      "displayName": "Nabh Sanjay Mehta",
      "photoUrl": "https://lh3.googleusercontent.com/a-/AOh14Ghw8BSfwc8OzBGTM5fhbQReSUvJjndNEmYbz0NxwQ=s64",
      "userId": "07383015962707534051"
     },
     "user_tz": 360
    },
    "id": "7TPgozrgu76l"
   },
   "outputs": [],
   "source": [
    "import torch\n",
    "import torch.nn as nn\n",
    "\n",
    "import numpy as np\n",
    "import matplotlib.pyplot as plt\n",
    "import seaborn as sns\n",
    "from sklearn.metrics import confusion_matrix\n",
    "from datetime import datetime\n",
    "from pathlib import Path\n",
    "import pandas as pd\n",
    "\n",
    "import torchtext.data as ttd\n",
    "\n",
    "from sklearn.model_selection import train_test_split\n",
    "from tensorflow.keras.preprocessing.text import Tokenizer\n",
    "from tensorflow.keras.preprocessing.sequence import pad_sequences"
   ]
  },
  {
   "cell_type": "code",
   "execution_count": 61,
   "metadata": {
    "executionInfo": {
     "elapsed": 2759,
     "status": "ok",
     "timestamp": 1604381726482,
     "user": {
      "displayName": "Nabh Sanjay Mehta",
      "photoUrl": "https://lh3.googleusercontent.com/a-/AOh14Ghw8BSfwc8OzBGTM5fhbQReSUvJjndNEmYbz0NxwQ=s64",
      "userId": "07383015962707534051"
     },
     "user_tz": 360
    },
    "id": "kC_ANq1RL9SZ"
   },
   "outputs": [],
   "source": [
    "!pip install -q kaggle"
   ]
  },
  {
   "cell_type": "code",
   "execution_count": 4,
   "metadata": {
    "executionInfo": {
     "elapsed": 29580,
     "status": "ok",
     "timestamp": 1604380718998,
     "user": {
      "displayName": "Nabh Sanjay Mehta",
      "photoUrl": "https://lh3.googleusercontent.com/a-/AOh14Ghw8BSfwc8OzBGTM5fhbQReSUvJjndNEmYbz0NxwQ=s64",
      "userId": "07383015962707534051"
     },
     "user_tz": 360
    },
    "id": "_dyxbWQfL9Pg"
   },
   "outputs": [],
   "source": [
    "from google.colab import files"
   ]
  },
  {
   "cell_type": "code",
   "execution_count": 5,
   "metadata": {
    "colab": {
     "base_uri": "https://localhost:8080/",
     "height": 90,
     "resources": {
      "http://localhost:8080/nbextensions/google.colab/files.js": {
       "data": "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",
       "headers": [
        [
         "content-type",
         "application/javascript"
        ]
       ],
       "ok": true,
       "status": 200,
       "status_text": ""
      }
     }
    },
    "executionInfo": {
     "elapsed": 39577,
     "status": "ok",
     "timestamp": 1604380729031,
     "user": {
      "displayName": "Nabh Sanjay Mehta",
      "photoUrl": "https://lh3.googleusercontent.com/a-/AOh14Ghw8BSfwc8OzBGTM5fhbQReSUvJjndNEmYbz0NxwQ=s64",
      "userId": "07383015962707534051"
     },
     "user_tz": 360
    },
    "id": "oW0_3W-BL9MG",
    "outputId": "d08c4644-a9da-490d-b023-124045cf5752"
   },
   "outputs": [
    {
     "data": {
      "text/html": [
       "\n",
       "     <input type=\"file\" id=\"files-4009dd86-45a4-43cb-a045-b0b8313b072c\" name=\"files[]\" multiple disabled\n",
       "        style=\"border:none\" />\n",
       "     <output id=\"result-4009dd86-45a4-43cb-a045-b0b8313b072c\">\n",
       "      Upload widget is only available when the cell has been executed in the\n",
       "      current browser session. Please rerun this cell to enable.\n",
       "      </output>\n",
       "      <script src=\"/nbextensions/google.colab/files.js\"></script> "
      ],
      "text/plain": [
       "<IPython.core.display.HTML object>"
      ]
     },
     "metadata": {
      "tags": []
     },
     "output_type": "display_data"
    },
    {
     "name": "stdout",
     "output_type": "stream",
     "text": [
      "Saving kaggle.json to kaggle.json\n"
     ]
    },
    {
     "data": {
      "text/plain": [
       "{'kaggle.json': b'{\"username\":\"nabhsanjaymehtautd\",\"key\":\"ee0e2e2e8b50d345f23e44404b090088\"}'}"
      ]
     },
     "execution_count": 5,
     "metadata": {
      "tags": []
     },
     "output_type": "execute_result"
    }
   ],
   "source": [
    "files.upload()"
   ]
  },
  {
   "cell_type": "code",
   "execution_count": 6,
   "metadata": {
    "executionInfo": {
     "elapsed": 39734,
     "status": "ok",
     "timestamp": 1604380729227,
     "user": {
      "displayName": "Nabh Sanjay Mehta",
      "photoUrl": "https://lh3.googleusercontent.com/a-/AOh14Ghw8BSfwc8OzBGTM5fhbQReSUvJjndNEmYbz0NxwQ=s64",
      "userId": "07383015962707534051"
     },
     "user_tz": 360
    },
    "id": "U1Fvf31TL9Jp"
   },
   "outputs": [],
   "source": [
    "!mkdir ~/.kaggle/"
   ]
  },
  {
   "cell_type": "code",
   "execution_count": 7,
   "metadata": {
    "executionInfo": {
     "elapsed": 39708,
     "status": "ok",
     "timestamp": 1604380729229,
     "user": {
      "displayName": "Nabh Sanjay Mehta",
      "photoUrl": "https://lh3.googleusercontent.com/a-/AOh14Ghw8BSfwc8OzBGTM5fhbQReSUvJjndNEmYbz0NxwQ=s64",
      "userId": "07383015962707534051"
     },
     "user_tz": 360
    },
    "id": "26XP3TTHL9GX"
   },
   "outputs": [],
   "source": [
    "!cp kaggle.json ~/.kaggle/"
   ]
  },
  {
   "cell_type": "code",
   "execution_count": 8,
   "metadata": {
    "executionInfo": {
     "elapsed": 39933,
     "status": "ok",
     "timestamp": 1604380729483,
     "user": {
      "displayName": "Nabh Sanjay Mehta",
      "photoUrl": "https://lh3.googleusercontent.com/a-/AOh14Ghw8BSfwc8OzBGTM5fhbQReSUvJjndNEmYbz0NxwQ=s64",
      "userId": "07383015962707534051"
     },
     "user_tz": 360
    },
    "id": "LvmE2q5NL9Du"
   },
   "outputs": [],
   "source": [
    "!chmod 60 ~/.kaggle/kaggle.json"
   ]
  },
  {
   "cell_type": "code",
   "execution_count": 9,
   "metadata": {
    "colab": {
     "base_uri": "https://localhost:8080/"
    },
    "executionInfo": {
     "elapsed": 40559,
     "status": "ok",
     "timestamp": 1604380730143,
     "user": {
      "displayName": "Nabh Sanjay Mehta",
      "photoUrl": "https://lh3.googleusercontent.com/a-/AOh14Ghw8BSfwc8OzBGTM5fhbQReSUvJjndNEmYbz0NxwQ=s64",
      "userId": "07383015962707534051"
     },
     "user_tz": 360
    },
    "id": "ktwO8dYVL9AV",
    "outputId": "9adcd2b5-8062-4781-b0fe-c92fba6a7aff"
   },
   "outputs": [
    {
     "name": "stdout",
     "output_type": "stream",
     "text": [
      "Warning: Your Kaggle API key is readable by other users on this system! To fix this, you can run 'chmod 600 /root/.kaggle/kaggle.json'\n",
      "Warning: Looks like you're using an outdated API Version, please consider updating (server 1.5.9 / client 1.5.4)\n",
      "ref                                                       title                                               size  lastUpdated          downloadCount  \n",
      "--------------------------------------------------------  -------------------------------------------------  -----  -------------------  -------------  \n",
      "terenceshin/covid19s-impact-on-airport-traffic            COVID-19's Impact on Airport Traffic               106KB  2020-10-19 12:40:17           1644  \n",
      "sootersaalu/amazon-top-50-bestselling-books-2009-2019     Amazon Top 50 Bestselling Books 2009 - 2019         15KB  2020-10-13 09:39:21           1602  \n",
      "thomaskonstantin/highly-rated-children-books-and-stories  Highly Rated Children Books And Stories            106KB  2020-10-24 12:09:59            340  \n",
      "tunguz/euro-parliament-proceedings-1996-2011              Euro Parliament Proceedings 1996 - 2011              1GB  2020-10-26 17:48:29             22  \n",
      "rishidamarla/judicial-expenditures-across-all-50-states   Judicial Expenditures across all 50 States           2KB  2020-10-25 00:07:45            214  \n",
      "docstein/brics-world-bank-indicators                      BRICS World Bank Indicators                          4MB  2020-10-22 12:18:40            348  \n",
      "kanishk307/6000-indian-food-recipes-dataset               6000+ Indian Food Recipes Dataset                    9MB  2020-10-24 01:08:23            428  \n",
      "elvinagammed/chatbots-intent-recognition-dataset          Chatbots: Intent Recognition Dataset                17KB  2020-10-23 07:44:59            184  \n",
      "omarhanyy/500-greatest-songs-of-all-time                  500 Greatest Songs of All Time                      33KB  2020-10-26 13:36:09            420  \n",
      "balraj98/synthetic-objective-testing-set-sots-reside      Synthetic Objective Testing Set (SOTS) [RESIDE]    415MB  2020-10-24 10:07:29             49  \n",
      "lunamcbride24/pokemon-type-matchup-data                   Pokemon Type Matchup Data                            9KB  2020-10-14 18:56:23            256  \n",
      "gaurav2796/kaggle-competions-rankings-and-kernels         Kaggle Competions, Rankings and Kernels            698KB  2020-10-15 04:05:15             31  \n",
      "balraj98/indoor-training-set-its-residestandard           Indoor Training Set (ITS) [RESIDE-Standard]          5GB  2020-10-24 10:07:30             34  \n",
      "romazepa/moscow-schools-winners-of-educational-olympiads  Moscow schools - winners of educational Olympiads    1MB  2020-10-12 21:45:01             55  \n",
      "sootersaalu/nigerian-songs-spotify                        Nigerian Songs Spotify                              24KB  2020-10-25 19:10:23             58  \n",
      "salmaneunus/mechanical-tools-dataset                      Mechanical Tools Classification Dataset            652MB  2020-11-01 11:28:22            169  \n",
      "thanatoz/hinglish-blogs                                   Hinglish blogs                                       2MB  2020-10-13 18:16:05             12  \n",
      "shivamb/netflix-shows                                     Netflix Movies and TV Shows                        971KB  2020-01-20 07:33:56          52860  \n",
      "nehaprabhavalkar/indian-food-101                          Indian Food 101                                      7KB  2020-09-30 06:23:43           5941  \n",
      "heeraldedhia/groceries-dataset                            Groceries dataset                                  257KB  2020-09-17 04:36:08           6200  \n"
     ]
    }
   ],
   "source": [
    "!kaggle datasets list"
   ]
  },
  {
   "cell_type": "code",
   "execution_count": 10,
   "metadata": {
    "colab": {
     "base_uri": "https://localhost:8080/"
    },
    "executionInfo": {
     "elapsed": 41851,
     "status": "ok",
     "timestamp": 1604380731483,
     "user": {
      "displayName": "Nabh Sanjay Mehta",
      "photoUrl": "https://lh3.googleusercontent.com/a-/AOh14Ghw8BSfwc8OzBGTM5fhbQReSUvJjndNEmYbz0NxwQ=s64",
      "userId": "07383015962707534051"
     },
     "user_tz": 360
    },
    "id": "MZdfPEU3L89n",
    "outputId": "cec86a12-4027-4045-a50b-6f030057dae7"
   },
   "outputs": [
    {
     "name": "stdout",
     "output_type": "stream",
     "text": [
      "Warning: Your Kaggle API key is readable by other users on this system! To fix this, you can run 'chmod 600 /root/.kaggle/kaggle.json'\n",
      "Warning: Looks like you're using an outdated API Version, please consider updating (server 1.5.9 / client 1.5.4)\n",
      "Downloading sample_submission.csv to /content\n",
      "  0% 0.00/34.2k [00:00<?, ?B/s]\n",
      "100% 34.2k/34.2k [00:00<00:00, 62.1MB/s]\n",
      "Downloading test.csv to /content\n",
      "  0% 0.00/506k [00:00<?, ?B/s]\n",
      "100% 506k/506k [00:00<00:00, 71.6MB/s]\n",
      "Downloading train.csv.zip to /content\n",
      "  0% 0.00/527k [00:00<?, ?B/s]\n",
      "100% 527k/527k [00:00<00:00, 74.1MB/s]\n"
     ]
    }
   ],
   "source": [
    "!kaggle competitions download -c transferlearning-dl-spring2020"
   ]
  },
  {
   "cell_type": "code",
   "execution_count": 11,
   "metadata": {
    "colab": {
     "base_uri": "https://localhost:8080/"
    },
    "executionInfo": {
     "elapsed": 41812,
     "status": "ok",
     "timestamp": 1604380731484,
     "user": {
      "displayName": "Nabh Sanjay Mehta",
      "photoUrl": "https://lh3.googleusercontent.com/a-/AOh14Ghw8BSfwc8OzBGTM5fhbQReSUvJjndNEmYbz0NxwQ=s64",
      "userId": "07383015962707534051"
     },
     "user_tz": 360
    },
    "id": "vlV4qJxvL86b",
    "outputId": "494241d1-f588-44e2-bd07-a833dfaa36ec"
   },
   "outputs": [
    {
     "name": "stdout",
     "output_type": "stream",
     "text": [
      "Archive:  train.csv.zip\n",
      "  inflating: train/train.csv         \n"
     ]
    }
   ],
   "source": [
    "!unzip train.csv.zip -d train"
   ]
  },
  {
   "cell_type": "code",
   "execution_count": 12,
   "metadata": {
    "executionInfo": {
     "elapsed": 41776,
     "status": "ok",
     "timestamp": 1604380731486,
     "user": {
      "displayName": "Nabh Sanjay Mehta",
      "photoUrl": "https://lh3.googleusercontent.com/a-/AOh14Ghw8BSfwc8OzBGTM5fhbQReSUvJjndNEmYbz0NxwQ=s64",
      "userId": "07383015962707534051"
     },
     "user_tz": 360
    },
    "id": "reNDu7J_u701"
   },
   "outputs": [],
   "source": [
    "data = pd.read_csv('/content/train/train.csv', encoding = \"ISO-8859-1\")\n",
    "testdata = pd.read_csv('/content/test.csv', encoding=\"ISO-8859-1\")"
   ]
  },
  {
   "cell_type": "code",
   "execution_count": 13,
   "metadata": {
    "colab": {
     "base_uri": "https://localhost:8080/",
     "height": 204
    },
    "executionInfo": {
     "elapsed": 42088,
     "status": "ok",
     "timestamp": 1604380731834,
     "user": {
      "displayName": "Nabh Sanjay Mehta",
      "photoUrl": "https://lh3.googleusercontent.com/a-/AOh14Ghw8BSfwc8OzBGTM5fhbQReSUvJjndNEmYbz0NxwQ=s64",
      "userId": "07383015962707534051"
     },
     "user_tz": 360
    },
    "id": "EgmBriPWu7yG",
    "outputId": "162ce644-cbf5-45a9-a633-f2ba860fa99f"
   },
   "outputs": [
    {
     "data": {
      "text/html": [
       "<div>\n",
       "<style scoped>\n",
       "    .dataframe tbody tr th:only-of-type {\n",
       "        vertical-align: middle;\n",
       "    }\n",
       "\n",
       "    .dataframe tbody tr th {\n",
       "        vertical-align: top;\n",
       "    }\n",
       "\n",
       "    .dataframe thead th {\n",
       "        text-align: right;\n",
       "    }\n",
       "</style>\n",
       "<table border=\"1\" class=\"dataframe\">\n",
       "  <thead>\n",
       "    <tr style=\"text-align: right;\">\n",
       "      <th></th>\n",
       "      <th>id</th>\n",
       "      <th>text</th>\n",
       "      <th>target</th>\n",
       "    </tr>\n",
       "  </thead>\n",
       "  <tbody>\n",
       "    <tr>\n",
       "      <th>0</th>\n",
       "      <td>86426</td>\n",
       "      <td>@USER She should ask a few native Americans wh...</td>\n",
       "      <td>1</td>\n",
       "    </tr>\n",
       "    <tr>\n",
       "      <th>1</th>\n",
       "      <td>16820</td>\n",
       "      <td>Amazon is investigating Chinese employees who ...</td>\n",
       "      <td>0</td>\n",
       "    </tr>\n",
       "    <tr>\n",
       "      <th>2</th>\n",
       "      <td>62688</td>\n",
       "      <td>@USER Someone should'veTaken\" this piece of sh...</td>\n",
       "      <td>1</td>\n",
       "    </tr>\n",
       "    <tr>\n",
       "      <th>3</th>\n",
       "      <td>43605</td>\n",
       "      <td>@USER @USER Obama wanted liberals &amp;amp; illega...</td>\n",
       "      <td>0</td>\n",
       "    </tr>\n",
       "    <tr>\n",
       "      <th>4</th>\n",
       "      <td>97670</td>\n",
       "      <td>@USER Liberals are all Kookoo !!!</td>\n",
       "      <td>1</td>\n",
       "    </tr>\n",
       "  </tbody>\n",
       "</table>\n",
       "</div>"
      ],
      "text/plain": [
       "      id                                               text  target\n",
       "0  86426  @USER She should ask a few native Americans wh...       1\n",
       "1  16820  Amazon is investigating Chinese employees who ...       0\n",
       "2  62688  @USER Someone should'veTaken\" this piece of sh...       1\n",
       "3  43605  @USER @USER Obama wanted liberals &amp; illega...       0\n",
       "4  97670                  @USER Liberals are all Kookoo !!!       1"
      ]
     },
     "execution_count": 13,
     "metadata": {
      "tags": []
     },
     "output_type": "execute_result"
    }
   ],
   "source": [
    "data.head()"
   ]
  },
  {
   "cell_type": "code",
   "execution_count": 14,
   "metadata": {
    "executionInfo": {
     "elapsed": 42054,
     "status": "ok",
     "timestamp": 1604380731841,
     "user": {
      "displayName": "Nabh Sanjay Mehta",
      "photoUrl": "https://lh3.googleusercontent.com/a-/AOh14Ghw8BSfwc8OzBGTM5fhbQReSUvJjndNEmYbz0NxwQ=s64",
      "userId": "07383015962707534051"
     },
     "user_tz": 360
    },
    "id": "kdoIycJJu7vS"
   },
   "outputs": [],
   "source": [
    "data = data.drop([\"id\"], axis=1)"
   ]
  },
  {
   "cell_type": "code",
   "execution_count": 15,
   "metadata": {
    "executionInfo": {
     "elapsed": 42023,
     "status": "ok",
     "timestamp": 1604380731843,
     "user": {
      "displayName": "Nabh Sanjay Mehta",
      "photoUrl": "https://lh3.googleusercontent.com/a-/AOh14Ghw8BSfwc8OzBGTM5fhbQReSUvJjndNEmYbz0NxwQ=s64",
      "userId": "07383015962707534051"
     },
     "user_tz": 360
    },
    "id": "zPKBjhgNdV3H"
   },
   "outputs": [],
   "source": [
    "testdata = testdata.drop([\"id\"], axis = 1)"
   ]
  },
  {
   "cell_type": "code",
   "execution_count": 16,
   "metadata": {
    "colab": {
     "base_uri": "https://localhost:8080/",
     "height": 204
    },
    "executionInfo": {
     "elapsed": 41985,
     "status": "ok",
     "timestamp": 1604380731845,
     "user": {
      "displayName": "Nabh Sanjay Mehta",
      "photoUrl": "https://lh3.googleusercontent.com/a-/AOh14Ghw8BSfwc8OzBGTM5fhbQReSUvJjndNEmYbz0NxwQ=s64",
      "userId": "07383015962707534051"
     },
     "user_tz": 360
    },
    "id": "otcpHY9du7sb",
    "outputId": "dd70ed5f-6be8-45ee-dbce-6193e128dffc"
   },
   "outputs": [
    {
     "data": {
      "text/html": [
       "<div>\n",
       "<style scoped>\n",
       "    .dataframe tbody tr th:only-of-type {\n",
       "        vertical-align: middle;\n",
       "    }\n",
       "\n",
       "    .dataframe tbody tr th {\n",
       "        vertical-align: top;\n",
       "    }\n",
       "\n",
       "    .dataframe thead th {\n",
       "        text-align: right;\n",
       "    }\n",
       "</style>\n",
       "<table border=\"1\" class=\"dataframe\">\n",
       "  <thead>\n",
       "    <tr style=\"text-align: right;\">\n",
       "      <th></th>\n",
       "      <th>text</th>\n",
       "      <th>target</th>\n",
       "    </tr>\n",
       "  </thead>\n",
       "  <tbody>\n",
       "    <tr>\n",
       "      <th>0</th>\n",
       "      <td>@USER She should ask a few native Americans wh...</td>\n",
       "      <td>1</td>\n",
       "    </tr>\n",
       "    <tr>\n",
       "      <th>1</th>\n",
       "      <td>Amazon is investigating Chinese employees who ...</td>\n",
       "      <td>0</td>\n",
       "    </tr>\n",
       "    <tr>\n",
       "      <th>2</th>\n",
       "      <td>@USER Someone should'veTaken\" this piece of sh...</td>\n",
       "      <td>1</td>\n",
       "    </tr>\n",
       "    <tr>\n",
       "      <th>3</th>\n",
       "      <td>@USER @USER Obama wanted liberals &amp;amp; illega...</td>\n",
       "      <td>0</td>\n",
       "    </tr>\n",
       "    <tr>\n",
       "      <th>4</th>\n",
       "      <td>@USER Liberals are all Kookoo !!!</td>\n",
       "      <td>1</td>\n",
       "    </tr>\n",
       "  </tbody>\n",
       "</table>\n",
       "</div>"
      ],
      "text/plain": [
       "                                                text  target\n",
       "0  @USER She should ask a few native Americans wh...       1\n",
       "1  Amazon is investigating Chinese employees who ...       0\n",
       "2  @USER Someone should'veTaken\" this piece of sh...       1\n",
       "3  @USER @USER Obama wanted liberals &amp; illega...       0\n",
       "4                  @USER Liberals are all Kookoo !!!       1"
      ]
     },
     "execution_count": 16,
     "metadata": {
      "tags": []
     },
     "output_type": "execute_result"
    }
   ],
   "source": [
    "data.head()"
   ]
  },
  {
   "cell_type": "code",
   "execution_count": 17,
   "metadata": {
    "colab": {
     "base_uri": "https://localhost:8080/"
    },
    "executionInfo": {
     "elapsed": 41944,
     "status": "ok",
     "timestamp": 1604380731846,
     "user": {
      "displayName": "Nabh Sanjay Mehta",
      "photoUrl": "https://lh3.googleusercontent.com/a-/AOh14Ghw8BSfwc8OzBGTM5fhbQReSUvJjndNEmYbz0NxwQ=s64",
      "userId": "07383015962707534051"
     },
     "user_tz": 360
    },
    "id": "wmRzSbYsu7pz",
    "outputId": "ee014dec-dd59-4a01-9e3d-ab699cb68522"
   },
   "outputs": [
    {
     "data": {
      "text/plain": [
       "0    6220\n",
       "1    3126\n",
       "Name: target, dtype: int64"
      ]
     },
     "execution_count": 17,
     "metadata": {
      "tags": []
     },
     "output_type": "execute_result"
    }
   ],
   "source": [
    "data['target'].value_counts()"
   ]
  },
  {
   "cell_type": "code",
   "execution_count": 18,
   "metadata": {
    "executionInfo": {
     "elapsed": 41909,
     "status": "ok",
     "timestamp": 1604380731847,
     "user": {
      "displayName": "Nabh Sanjay Mehta",
      "photoUrl": "https://lh3.googleusercontent.com/a-/AOh14Ghw8BSfwc8OzBGTM5fhbQReSUvJjndNEmYbz0NxwQ=s64",
      "userId": "07383015962707534051"
     },
     "user_tz": 360
    },
    "id": "bAvGMZ3_wKX6"
   },
   "outputs": [],
   "source": [
    "data.columns = ['data','labels']"
   ]
  },
  {
   "cell_type": "code",
   "execution_count": 19,
   "metadata": {
    "executionInfo": {
     "elapsed": 41887,
     "status": "ok",
     "timestamp": 1604380731849,
     "user": {
      "displayName": "Nabh Sanjay Mehta",
      "photoUrl": "https://lh3.googleusercontent.com/a-/AOh14Ghw8BSfwc8OzBGTM5fhbQReSUvJjndNEmYbz0NxwQ=s64",
      "userId": "07383015962707534051"
     },
     "user_tz": 360
    },
    "id": "pK30WAm9dfW0"
   },
   "outputs": [],
   "source": [
    "testdata.columns = ['data']"
   ]
  },
  {
   "cell_type": "code",
   "execution_count": 20,
   "metadata": {
    "colab": {
     "base_uri": "https://localhost:8080/",
     "height": 204
    },
    "executionInfo": {
     "elapsed": 41844,
     "status": "ok",
     "timestamp": 1604380731850,
     "user": {
      "displayName": "Nabh Sanjay Mehta",
      "photoUrl": "https://lh3.googleusercontent.com/a-/AOh14Ghw8BSfwc8OzBGTM5fhbQReSUvJjndNEmYbz0NxwQ=s64",
      "userId": "07383015962707534051"
     },
     "user_tz": 360
    },
    "id": "MhH-UqCweGH2",
    "outputId": "41422953-4312-4cd1-9067-fa832531cb1f"
   },
   "outputs": [
    {
     "data": {
      "text/html": [
       "<div>\n",
       "<style scoped>\n",
       "    .dataframe tbody tr th:only-of-type {\n",
       "        vertical-align: middle;\n",
       "    }\n",
       "\n",
       "    .dataframe tbody tr th {\n",
       "        vertical-align: top;\n",
       "    }\n",
       "\n",
       "    .dataframe thead th {\n",
       "        text-align: right;\n",
       "    }\n",
       "</style>\n",
       "<table border=\"1\" class=\"dataframe\">\n",
       "  <thead>\n",
       "    <tr style=\"text-align: right;\">\n",
       "      <th></th>\n",
       "      <th>data</th>\n",
       "    </tr>\n",
       "  </thead>\n",
       "  <tbody>\n",
       "    <tr>\n",
       "      <th>0</th>\n",
       "      <td>@USER @USER Go home youâre drunk!!! @USER #M...</td>\n",
       "    </tr>\n",
       "    <tr>\n",
       "      <th>1</th>\n",
       "      <td>@USER @USER Oh noes! Tough shit.</td>\n",
       "    </tr>\n",
       "    <tr>\n",
       "      <th>2</th>\n",
       "      <td>@USER Canada doesnât need another CUCK! We a...</td>\n",
       "    </tr>\n",
       "    <tr>\n",
       "      <th>3</th>\n",
       "      <td>@USER @USER @USER It should scare every Americ...</td>\n",
       "    </tr>\n",
       "    <tr>\n",
       "      <th>4</th>\n",
       "      <td>@USER @USER @USER @USER LOL!!!   Throwing the ...</td>\n",
       "    </tr>\n",
       "  </tbody>\n",
       "</table>\n",
       "</div>"
      ],
      "text/plain": [
       "                                                data\n",
       "0  @USER @USER Go home youâre drunk!!! @USER #M...\n",
       "1                   @USER @USER Oh noes! Tough shit.\n",
       "2  @USER Canada doesnât need another CUCK! We a...\n",
       "3  @USER @USER @USER It should scare every Americ...\n",
       "4  @USER @USER @USER @USER LOL!!!   Throwing the ..."
      ]
     },
     "execution_count": 20,
     "metadata": {
      "tags": []
     },
     "output_type": "execute_result"
    }
   ],
   "source": [
    "testdata.head()"
   ]
  },
  {
   "cell_type": "code",
   "execution_count": 21,
   "metadata": {
    "colab": {
     "base_uri": "https://localhost:8080/",
     "height": 195
    },
    "executionInfo": {
     "elapsed": 41803,
     "status": "ok",
     "timestamp": 1604380731851,
     "user": {
      "displayName": "Nabh Sanjay Mehta",
      "photoUrl": "https://lh3.googleusercontent.com/a-/AOh14Ghw8BSfwc8OzBGTM5fhbQReSUvJjndNEmYbz0NxwQ=s64",
      "userId": "07383015962707534051"
     },
     "user_tz": 360
    },
    "id": "7wKpZPhsu7m9",
    "outputId": "75f7f031-0eed-4318-a820-2efe663b6db8"
   },
   "outputs": [
    {
     "data": {
      "text/html": [
       "<div>\n",
       "<style scoped>\n",
       "    .dataframe tbody tr th:only-of-type {\n",
       "        vertical-align: middle;\n",
       "    }\n",
       "\n",
       "    .dataframe tbody tr th {\n",
       "        vertical-align: top;\n",
       "    }\n",
       "\n",
       "    .dataframe thead th {\n",
       "        text-align: right;\n",
       "    }\n",
       "</style>\n",
       "<table border=\"1\" class=\"dataframe\">\n",
       "  <thead>\n",
       "    <tr style=\"text-align: right;\">\n",
       "      <th></th>\n",
       "      <th>data</th>\n",
       "      <th>labels</th>\n",
       "    </tr>\n",
       "  </thead>\n",
       "  <tbody>\n",
       "    <tr>\n",
       "      <th>0</th>\n",
       "      <td>@USER She should ask a few native Americans wh...</td>\n",
       "      <td>1</td>\n",
       "    </tr>\n",
       "    <tr>\n",
       "      <th>1</th>\n",
       "      <td>Amazon is investigating Chinese employees who ...</td>\n",
       "      <td>0</td>\n",
       "    </tr>\n",
       "    <tr>\n",
       "      <th>2</th>\n",
       "      <td>@USER Someone should'veTaken\" this piece of sh...</td>\n",
       "      <td>1</td>\n",
       "    </tr>\n",
       "    <tr>\n",
       "      <th>3</th>\n",
       "      <td>@USER @USER Obama wanted liberals &amp;amp; illega...</td>\n",
       "      <td>0</td>\n",
       "    </tr>\n",
       "    <tr>\n",
       "      <th>4</th>\n",
       "      <td>@USER Liberals are all Kookoo !!!</td>\n",
       "      <td>1</td>\n",
       "    </tr>\n",
       "  </tbody>\n",
       "</table>\n",
       "</div>"
      ],
      "text/plain": [
       "                                                data  labels\n",
       "0  @USER She should ask a few native Americans wh...       1\n",
       "1  Amazon is investigating Chinese employees who ...       0\n",
       "2  @USER Someone should'veTaken\" this piece of sh...       1\n",
       "3  @USER @USER Obama wanted liberals &amp; illega...       0\n",
       "4                  @USER Liberals are all Kookoo !!!       1"
      ]
     },
     "execution_count": 21,
     "metadata": {
      "tags": []
     },
     "output_type": "execute_result"
    }
   ],
   "source": [
    "data.head()"
   ]
  },
  {
   "cell_type": "code",
   "execution_count": 22,
   "metadata": {
    "executionInfo": {
     "elapsed": 41773,
     "status": "ok",
     "timestamp": 1604380731853,
     "user": {
      "displayName": "Nabh Sanjay Mehta",
      "photoUrl": "https://lh3.googleusercontent.com/a-/AOh14Ghw8BSfwc8OzBGTM5fhbQReSUvJjndNEmYbz0NxwQ=s64",
      "userId": "07383015962707534051"
     },
     "user_tz": 360
    },
    "id": "DPz8JmKAzDsE"
   },
   "outputs": [],
   "source": [
    "testdata = pd.Series(testdata['data'].to_numpy())"
   ]
  },
  {
   "cell_type": "code",
   "execution_count": 23,
   "metadata": {
    "executionInfo": {
     "elapsed": 41752,
     "status": "ok",
     "timestamp": 1604380731855,
     "user": {
      "displayName": "Nabh Sanjay Mehta",
      "photoUrl": "https://lh3.googleusercontent.com/a-/AOh14Ghw8BSfwc8OzBGTM5fhbQReSUvJjndNEmYbz0NxwQ=s64",
      "userId": "07383015962707534051"
     },
     "user_tz": 360
    },
    "id": "wfVxy95Mu7kN"
   },
   "outputs": [],
   "source": [
    "X_train, X_test, y_train, y_test = train_test_split(data['data'], data['labels'], test_size=0.3)"
   ]
  },
  {
   "cell_type": "code",
   "execution_count": 24,
   "metadata": {
    "colab": {
     "base_uri": "https://localhost:8080/"
    },
    "executionInfo": {
     "elapsed": 41722,
     "status": "ok",
     "timestamp": 1604380731857,
     "user": {
      "displayName": "Nabh Sanjay Mehta",
      "photoUrl": "https://lh3.googleusercontent.com/a-/AOh14Ghw8BSfwc8OzBGTM5fhbQReSUvJjndNEmYbz0NxwQ=s64",
      "userId": "07383015962707534051"
     },
     "user_tz": 360
    },
    "id": "wqwO15WmfF7z",
    "outputId": "87ee794d-08a6-4823-c4ad-7760c10eef29"
   },
   "outputs": [
    {
     "data": {
      "text/plain": [
       "pandas.core.series.Series"
      ]
     },
     "execution_count": 24,
     "metadata": {
      "tags": []
     },
     "output_type": "execute_result"
    }
   ],
   "source": [
    "type(X_test)"
   ]
  },
  {
   "cell_type": "code",
   "execution_count": 25,
   "metadata": {
    "colab": {
     "base_uri": "https://localhost:8080/"
    },
    "executionInfo": {
     "elapsed": 41686,
     "status": "ok",
     "timestamp": 1604380731858,
     "user": {
      "displayName": "Nabh Sanjay Mehta",
      "photoUrl": "https://lh3.googleusercontent.com/a-/AOh14Ghw8BSfwc8OzBGTM5fhbQReSUvJjndNEmYbz0NxwQ=s64",
      "userId": "07383015962707534051"
     },
     "user_tz": 360
    },
    "id": "1FjUbDsCu7hm",
    "outputId": "bd26f495-0893-40a8-babb-e0d2571482f4"
   },
   "outputs": [
    {
     "name": "stdout",
     "output_type": "stream",
     "text": [
      "(6542,) (6542,)\n"
     ]
    }
   ],
   "source": [
    "print(X_train.shape,y_train.shape)"
   ]
  },
  {
   "cell_type": "code",
   "execution_count": 26,
   "metadata": {
    "executionInfo": {
     "elapsed": 41929,
     "status": "ok",
     "timestamp": 1604380732137,
     "user": {
      "displayName": "Nabh Sanjay Mehta",
      "photoUrl": "https://lh3.googleusercontent.com/a-/AOh14Ghw8BSfwc8OzBGTM5fhbQReSUvJjndNEmYbz0NxwQ=s64",
      "userId": "07383015962707534051"
     },
     "user_tz": 360
    },
    "id": "qbug6BRTu7eu"
   },
   "outputs": [],
   "source": [
    "tokenizer = Tokenizer()\n",
    "tokenizer.fit_on_texts(X_train)\n",
    "X_train_tok = tokenizer.texts_to_sequences(X_train)\n",
    "X_test_tok = tokenizer.texts_to_sequences(X_test)"
   ]
  },
  {
   "cell_type": "code",
   "execution_count": 27,
   "metadata": {
    "executionInfo": {
     "elapsed": 42140,
     "status": "ok",
     "timestamp": 1604380732372,
     "user": {
      "displayName": "Nabh Sanjay Mehta",
      "photoUrl": "https://lh3.googleusercontent.com/a-/AOh14Ghw8BSfwc8OzBGTM5fhbQReSUvJjndNEmYbz0NxwQ=s64",
      "userId": "07383015962707534051"
     },
     "user_tz": 360
    },
    "id": "aM32hFi2gx35"
   },
   "outputs": [],
   "source": [
    "testdata_tok = tokenizer.texts_to_sequences(testdata)"
   ]
  },
  {
   "cell_type": "code",
   "execution_count": 28,
   "metadata": {
    "colab": {
     "base_uri": "https://localhost:8080/"
    },
    "executionInfo": {
     "elapsed": 42110,
     "status": "ok",
     "timestamp": 1604380732373,
     "user": {
      "displayName": "Nabh Sanjay Mehta",
      "photoUrl": "https://lh3.googleusercontent.com/a-/AOh14Ghw8BSfwc8OzBGTM5fhbQReSUvJjndNEmYbz0NxwQ=s64",
      "userId": "07383015962707534051"
     },
     "user_tz": 360
    },
    "id": "7NOvlc_qg5l1",
    "outputId": "ddc21eae-b6a5-4215-d603-3c7d624aed4e"
   },
   "outputs": [
    {
     "name": "stdout",
     "output_type": "stream",
     "text": [
      "3894\n"
     ]
    }
   ],
   "source": [
    "print(len(testdata_tok))"
   ]
  },
  {
   "cell_type": "code",
   "execution_count": 29,
   "metadata": {
    "colab": {
     "base_uri": "https://localhost:8080/"
    },
    "executionInfo": {
     "elapsed": 42071,
     "status": "ok",
     "timestamp": 1604380732374,
     "user": {
      "displayName": "Nabh Sanjay Mehta",
      "photoUrl": "https://lh3.googleusercontent.com/a-/AOh14Ghw8BSfwc8OzBGTM5fhbQReSUvJjndNEmYbz0NxwQ=s64",
      "userId": "07383015962707534051"
     },
     "user_tz": 360
    },
    "id": "C-3eIuICu7b6",
    "outputId": "7ffddfe3-2de1-4976-cc38-93bbfa7215c9"
   },
   "outputs": [
    {
     "name": "stdout",
     "output_type": "stream",
     "text": [
      "6542\n"
     ]
    }
   ],
   "source": [
    "print(len(X_train_tok)) # it is a list , does not have shape attribute"
   ]
  },
  {
   "cell_type": "code",
   "execution_count": 30,
   "metadata": {
    "executionInfo": {
     "elapsed": 42043,
     "status": "ok",
     "timestamp": 1604380732376,
     "user": {
      "displayName": "Nabh Sanjay Mehta",
      "photoUrl": "https://lh3.googleusercontent.com/a-/AOh14Ghw8BSfwc8OzBGTM5fhbQReSUvJjndNEmYbz0NxwQ=s64",
      "userId": "07383015962707534051"
     },
     "user_tz": 360
    },
    "id": "D4t1i2Exu7Y-"
   },
   "outputs": [],
   "source": [
    "# get words in each review\n",
    "train_review_lengths = [len(x) for x in X_train_tok]\n",
    "test_teview_lengths = [len(x) for x in X_test_tok]\n",
    "\n",
    "testdata_review_lenghts = [len(x) for x in testdata_tok]"
   ]
  },
  {
   "cell_type": "code",
   "execution_count": 31,
   "metadata": {
    "colab": {
     "base_uri": "https://localhost:8080/"
    },
    "executionInfo": {
     "elapsed": 42020,
     "status": "ok",
     "timestamp": 1604380732377,
     "user": {
      "displayName": "Nabh Sanjay Mehta",
      "photoUrl": "https://lh3.googleusercontent.com/a-/AOh14Ghw8BSfwc8OzBGTM5fhbQReSUvJjndNEmYbz0NxwQ=s64",
      "userId": "07383015962707534051"
     },
     "user_tz": 360
    },
    "id": "Z-rjiikFu7WF",
    "outputId": "c95e22f3-216b-446f-f0d1-3cd5a6b9bc6b"
   },
   "outputs": [
    {
     "name": "stdout",
     "output_type": "stream",
     "text": [
      "Unique Tokens 14271\n"
     ]
    }
   ],
   "source": [
    "# get word -> integer mapping\n",
    "word2idx = tokenizer.word_index\n",
    "V = len(word2idx)\n",
    "print(f'Unique Tokens {V}')"
   ]
  },
  {
   "cell_type": "code",
   "execution_count": 32,
   "metadata": {
    "colab": {
     "base_uri": "https://localhost:8080/"
    },
    "executionInfo": {
     "elapsed": 42003,
     "status": "ok",
     "timestamp": 1604380732378,
     "user": {
      "displayName": "Nabh Sanjay Mehta",
      "photoUrl": "https://lh3.googleusercontent.com/a-/AOh14Ghw8BSfwc8OzBGTM5fhbQReSUvJjndNEmYbz0NxwQ=s64",
      "userId": "07383015962707534051"
     },
     "user_tz": 360
    },
    "id": "dpd4fNTQu7TW",
    "outputId": "bc370f2b-b595-4a77-ca79-640fcef74229"
   },
   "outputs": [
    {
     "name": "stdout",
     "output_type": "stream",
     "text": [
      "Shape of X_train_tok_pad : (6542, 102)\n"
     ]
    }
   ],
   "source": [
    "# pad sequences so that we get a N x T matrix\n",
    "\n",
    "# This function transforms a list (of length num_samples) of sequences (lists of integers).\n",
    "# into a 2D Numpy array of shape (num_samples, num_timesteps).\n",
    "# num_timesteps is either the maxlen argument if provided,\n",
    "# or the length of the longest sequence in the list.\n",
    "\n",
    "X_train_tok_pad = pad_sequences(X_train_tok) \n",
    "print(f'Shape of X_train_tok_pad : {X_train_tok_pad.shape}')\n"
   ]
  },
  {
   "cell_type": "code",
   "execution_count": 33,
   "metadata": {
    "executionInfo": {
     "elapsed": 41987,
     "status": "ok",
     "timestamp": 1604380732379,
     "user": {
      "displayName": "Nabh Sanjay Mehta",
      "photoUrl": "https://lh3.googleusercontent.com/a-/AOh14Ghw8BSfwc8OzBGTM5fhbQReSUvJjndNEmYbz0NxwQ=s64",
      "userId": "07383015962707534051"
     },
     "user_tz": 360
    },
    "id": "58Ts12d7z4p-"
   },
   "outputs": [],
   "source": [
    "testdata_tok_pad = pad_sequences(testdata_tok)"
   ]
  },
  {
   "cell_type": "code",
   "execution_count": 34,
   "metadata": {
    "colab": {
     "base_uri": "https://localhost:8080/"
    },
    "executionInfo": {
     "elapsed": 41969,
     "status": "ok",
     "timestamp": 1604380732380,
     "user": {
      "displayName": "Nabh Sanjay Mehta",
      "photoUrl": "https://lh3.googleusercontent.com/a-/AOh14Ghw8BSfwc8OzBGTM5fhbQReSUvJjndNEmYbz0NxwQ=s64",
      "userId": "07383015962707534051"
     },
     "user_tz": 360
    },
    "id": "DxiZlqJwu7Ql",
    "outputId": "265ebaac-fc21-43fb-806f-7e485eb5aa75"
   },
   "outputs": [
    {
     "data": {
      "text/plain": [
       "102"
      ]
     },
     "execution_count": 34,
     "metadata": {
      "tags": []
     },
     "output_type": "execute_result"
    }
   ],
   "source": [
    "# get sequence length\n",
    "T = X_train_tok_pad.shape[1]\n",
    "T"
   ]
  },
  {
   "cell_type": "code",
   "execution_count": 35,
   "metadata": {
    "executionInfo": {
     "elapsed": 41950,
     "status": "ok",
     "timestamp": 1604380732381,
     "user": {
      "displayName": "Nabh Sanjay Mehta",
      "photoUrl": "https://lh3.googleusercontent.com/a-/AOh14Ghw8BSfwc8OzBGTM5fhbQReSUvJjndNEmYbz0NxwQ=s64",
      "userId": "07383015962707534051"
     },
     "user_tz": 360
    },
    "id": "srC3GvN50Lh2"
   },
   "outputs": [],
   "source": [
    "Test_T = testdata_tok_pad.shape[1]"
   ]
  },
  {
   "cell_type": "code",
   "execution_count": 36,
   "metadata": {
    "colab": {
     "base_uri": "https://localhost:8080/"
    },
    "executionInfo": {
     "elapsed": 41916,
     "status": "ok",
     "timestamp": 1604380732382,
     "user": {
      "displayName": "Nabh Sanjay Mehta",
      "photoUrl": "https://lh3.googleusercontent.com/a-/AOh14Ghw8BSfwc8OzBGTM5fhbQReSUvJjndNEmYbz0NxwQ=s64",
      "userId": "07383015962707534051"
     },
     "user_tz": 360
    },
    "id": "UgTAZx3n0QrN",
    "outputId": "aeed4389-b690-47e5-ff1a-f123ad2982ca"
   },
   "outputs": [
    {
     "data": {
      "text/plain": [
       "98"
      ]
     },
     "execution_count": 36,
     "metadata": {
      "tags": []
     },
     "output_type": "execute_result"
    }
   ],
   "source": [
    "Test_T"
   ]
  },
  {
   "cell_type": "code",
   "execution_count": 36,
   "metadata": {
    "executionInfo": {
     "elapsed": 41900,
     "status": "ok",
     "timestamp": 1604380732383,
     "user": {
      "displayName": "Nabh Sanjay Mehta",
      "photoUrl": "https://lh3.googleusercontent.com/a-/AOh14Ghw8BSfwc8OzBGTM5fhbQReSUvJjndNEmYbz0NxwQ=s64",
      "userId": "07383015962707534051"
     },
     "user_tz": 360
    },
    "id": "XEA2qzUO0TCt"
   },
   "outputs": [],
   "source": []
  },
  {
   "cell_type": "code",
   "execution_count": 37,
   "metadata": {
    "colab": {
     "base_uri": "https://localhost:8080/"
    },
    "executionInfo": {
     "elapsed": 41884,
     "status": "ok",
     "timestamp": 1604380732384,
     "user": {
      "displayName": "Nabh Sanjay Mehta",
      "photoUrl": "https://lh3.googleusercontent.com/a-/AOh14Ghw8BSfwc8OzBGTM5fhbQReSUvJjndNEmYbz0NxwQ=s64",
      "userId": "07383015962707534051"
     },
     "user_tz": 360
    },
    "id": "dUNs-v6Du7N8",
    "outputId": "951e8d2c-ec0b-4d81-fa0c-aaedfa00d066"
   },
   "outputs": [
    {
     "name": "stdout",
     "output_type": "stream",
     "text": [
      "Shape of X_test_tok_pad : (2804, 102)\n"
     ]
    }
   ],
   "source": [
    "X_test_tok_pad = pad_sequences(X_test_tok, maxlen=T)\n",
    "print(f'Shape of X_test_tok_pad : {X_test_tok_pad.shape}')"
   ]
  },
  {
   "cell_type": "code",
   "execution_count": 38,
   "metadata": {
    "executionInfo": {
     "elapsed": 41870,
     "status": "ok",
     "timestamp": 1604380732385,
     "user": {
      "displayName": "Nabh Sanjay Mehta",
      "photoUrl": "https://lh3.googleusercontent.com/a-/AOh14Ghw8BSfwc8OzBGTM5fhbQReSUvJjndNEmYbz0NxwQ=s64",
      "userId": "07383015962707534051"
     },
     "user_tz": 360
    },
    "id": "4YdknZmNu7LM"
   },
   "outputs": [],
   "source": [
    "X_train_tensor = torch.from_numpy(X_train_tok_pad).long() #int64\n",
    "y_train_tensor = torch.from_numpy(y_train.to_numpy()) # pandas series to numpy , numpy to tensor\n",
    "X_test_tensor = torch.from_numpy(X_test_tok_pad).long() # int64\n",
    "y_test_tensor = torch.from_numpy(y_test.to_numpy())"
   ]
  },
  {
   "cell_type": "code",
   "execution_count": 39,
   "metadata": {
    "executionInfo": {
     "elapsed": 41863,
     "status": "ok",
     "timestamp": 1604380732387,
     "user": {
      "displayName": "Nabh Sanjay Mehta",
      "photoUrl": "https://lh3.googleusercontent.com/a-/AOh14Ghw8BSfwc8OzBGTM5fhbQReSUvJjndNEmYbz0NxwQ=s64",
      "userId": "07383015962707534051"
     },
     "user_tz": 360
    },
    "id": "4vnsKDvt0Z14"
   },
   "outputs": [],
   "source": [
    "testdata_tensor = torch.from_numpy(testdata_tok_pad).long()"
   ]
  },
  {
   "cell_type": "code",
   "execution_count": 40,
   "metadata": {
    "executionInfo": {
     "elapsed": 41855,
     "status": "ok",
     "timestamp": 1604380732389,
     "user": {
      "displayName": "Nabh Sanjay Mehta",
      "photoUrl": "https://lh3.googleusercontent.com/a-/AOh14Ghw8BSfwc8OzBGTM5fhbQReSUvJjndNEmYbz0NxwQ=s64",
      "userId": "07383015962707534051"
     },
     "user_tz": 360
    },
    "id": "BMSlWa_Eu7Ia"
   },
   "outputs": [],
   "source": [
    "# create dataset objects\n",
    "train_dataset = torch.utils.data.TensorDataset(X_train_tensor, y_train_tensor)\n",
    "test_dataset = torch.utils.data.TensorDataset(X_test_tensor,y_test_tensor)"
   ]
  },
  {
   "cell_type": "code",
   "execution_count": 41,
   "metadata": {
    "executionInfo": {
     "elapsed": 41849,
     "status": "ok",
     "timestamp": 1604380732391,
     "user": {
      "displayName": "Nabh Sanjay Mehta",
      "photoUrl": "https://lh3.googleusercontent.com/a-/AOh14Ghw8BSfwc8OzBGTM5fhbQReSUvJjndNEmYbz0NxwQ=s64",
      "userId": "07383015962707534051"
     },
     "user_tz": 360
    },
    "id": "OcPQieh01Jiz"
   },
   "outputs": [],
   "source": [
    "testdata_dataset = torch.utils.data.TensorDataset(testdata_tensor)"
   ]
  },
  {
   "cell_type": "code",
   "execution_count": 42,
   "metadata": {
    "executionInfo": {
     "elapsed": 41838,
     "status": "ok",
     "timestamp": 1604380732392,
     "user": {
      "displayName": "Nabh Sanjay Mehta",
      "photoUrl": "https://lh3.googleusercontent.com/a-/AOh14Ghw8BSfwc8OzBGTM5fhbQReSUvJjndNEmYbz0NxwQ=s64",
      "userId": "07383015962707534051"
     },
     "user_tz": 360
    },
    "id": "22E2zRn-u7Fz"
   },
   "outputs": [],
   "source": [
    "# Data loaders\n",
    "train_iter = torch.utils.data.DataLoader(dataset=train_dataset, \n",
    "                                           batch_size=32, \n",
    "                                           shuffle=True)\n",
    "\n",
    "test_iter = torch.utils.data.DataLoader(dataset=test_dataset, \n",
    "                                          batch_size=256, \n",
    "                                          shuffle=False)"
   ]
  },
  {
   "cell_type": "code",
   "execution_count": 43,
   "metadata": {
    "executionInfo": {
     "elapsed": 41828,
     "status": "ok",
     "timestamp": 1604380732394,
     "user": {
      "displayName": "Nabh Sanjay Mehta",
      "photoUrl": "https://lh3.googleusercontent.com/a-/AOh14Ghw8BSfwc8OzBGTM5fhbQReSUvJjndNEmYbz0NxwQ=s64",
      "userId": "07383015962707534051"
     },
     "user_tz": 360
    },
    "id": "83_xrPaB1Y9c"
   },
   "outputs": [],
   "source": [
    "testdata_iter = torch.utils.data.DataLoader(dataset=testdata_dataset,\n",
    "                                            batch_size = 64,\n",
    "                                            shuffle = False)"
   ]
  },
  {
   "cell_type": "code",
   "execution_count": 44,
   "metadata": {
    "colab": {
     "base_uri": "https://localhost:8080/"
    },
    "executionInfo": {
     "elapsed": 42146,
     "status": "ok",
     "timestamp": 1604380732727,
     "user": {
      "displayName": "Nabh Sanjay Mehta",
      "photoUrl": "https://lh3.googleusercontent.com/a-/AOh14Ghw8BSfwc8OzBGTM5fhbQReSUvJjndNEmYbz0NxwQ=s64",
      "userId": "07383015962707534051"
     },
     "user_tz": 360
    },
    "id": "QE_BgWA01qpg",
    "outputId": "26621b2b-a98e-4437-ce80-e13e129ee2cf"
   },
   "outputs": [
    {
     "name": "stdout",
     "output_type": "stream",
     "text": [
      "[tensor([[    0,     0,     0,  ...,    38,  1171,    16],\n",
      "        [    0,     0,     0,  ...,   212,  1676,    89],\n",
      "        [    0,     0,     0,  ...,   153,   131, 12513],\n",
      "        ...,\n",
      "        [    0,     0,     0,  ...,     5, 12609,  1845],\n",
      "        [    0,     0,     0,  ...,  1468,    53,   814],\n",
      "        [    0,     0,     0,  ..., 11248,    39,    16]])]\n"
     ]
    }
   ],
   "source": [
    "for i in testdata_iter:\n",
    "  print(i)\n",
    "  break"
   ]
  },
  {
   "cell_type": "code",
   "execution_count": 45,
   "metadata": {
    "colab": {
     "base_uri": "https://localhost:8080/"
    },
    "executionInfo": {
     "elapsed": 42127,
     "status": "ok",
     "timestamp": 1604380732729,
     "user": {
      "displayName": "Nabh Sanjay Mehta",
      "photoUrl": "https://lh3.googleusercontent.com/a-/AOh14Ghw8BSfwc8OzBGTM5fhbQReSUvJjndNEmYbz0NxwQ=s64",
      "userId": "07383015962707534051"
     },
     "user_tz": 360
    },
    "id": "Ei3UuzURu7DJ",
    "outputId": "9d2dcc20-eabe-4f12-87ca-6df1abc0eca6"
   },
   "outputs": [
    {
     "name": "stdout",
     "output_type": "stream",
     "text": [
      "inputs: tensor([[   0,    0,    0,  ...,   97, 1017,  260],\n",
      "        [   0,    0,    0,  ...,  336,  143, 1673],\n",
      "        [   0,    0,    0,  ...,   54,  238,  372],\n",
      "        ...,\n",
      "        [   0,    0,    0,  ...,  305,   17,  127],\n",
      "        [   0,    0,    0,  ...,    5,  153,  919],\n",
      "        [   0,    0,    0,  ...,   38, 4739,   16]]) shape: torch.Size([32, 102])\n",
      "targets: tensor([1, 0, 0, 1, 0, 0, 0, 1, 1, 0, 0, 0, 0, 0, 0, 0, 0, 1, 0, 0, 0, 0, 0, 1,\n",
      "        0, 1, 0, 1, 0, 0, 0, 0]) shape: torch.Size([32])\n"
     ]
    }
   ],
   "source": [
    "for inputs, targets in train_iter:\n",
    "  print(\"inputs:\", inputs, \"shape:\", inputs.shape)\n",
    "  print(\"targets:\", targets, \"shape:\", targets.shape)\n",
    "  break"
   ]
  },
  {
   "cell_type": "code",
   "execution_count": 46,
   "metadata": {
    "colab": {
     "base_uri": "https://localhost:8080/"
    },
    "executionInfo": {
     "elapsed": 42110,
     "status": "ok",
     "timestamp": 1604380732731,
     "user": {
      "displayName": "Nabh Sanjay Mehta",
      "photoUrl": "https://lh3.googleusercontent.com/a-/AOh14Ghw8BSfwc8OzBGTM5fhbQReSUvJjndNEmYbz0NxwQ=s64",
      "userId": "07383015962707534051"
     },
     "user_tz": 360
    },
    "id": "NyZPzfKpu7Ad",
    "outputId": "12daaaec-940a-4391-9d81-6156ffd134f9"
   },
   "outputs": [
    {
     "name": "stdout",
     "output_type": "stream",
     "text": [
      "inputs: tensor([[   0,    0,    0,  ..., 6087,   91,  752],\n",
      "        [   0,    0,    0,  ...,   70,   61,  857],\n",
      "        [   0,    0,    0,  ...,  527,   27,  333],\n",
      "        ...,\n",
      "        [   0,    0,    0,  ...,    2, 2787, 1392],\n",
      "        [   0,    0,    0,  ...,  934,   13,  278],\n",
      "        [   0,    0,    0,  ...,    6,  275, 7291]])\n",
      "targets: tensor([0, 1, 0, 0, 0, 0, 1, 0, 1, 1, 0, 0, 1, 0, 1, 0, 0, 1, 1, 0, 0, 0, 1, 0,\n",
      "        0, 0, 0, 1, 0, 0, 0, 1, 0, 1, 0, 1, 0, 1, 1, 1, 0, 1, 0, 0, 0, 1, 0, 1,\n",
      "        0, 0, 0, 0, 0, 0, 0, 0, 0, 0, 1, 0, 1, 0, 0, 0, 1, 0, 0, 1, 0, 0, 0, 0,\n",
      "        1, 0, 0, 0, 0, 0, 0, 0, 0, 0, 0, 0, 0, 1, 1, 1, 1, 1, 0, 1, 1, 0, 0, 1,\n",
      "        1, 0, 0, 1, 0, 1, 1, 0, 1, 0, 0, 0, 0, 0, 0, 1, 0, 1, 0, 0, 0, 0, 1, 1,\n",
      "        0, 0, 0, 0, 0, 1, 0, 0, 0, 0, 1, 0, 0, 1, 1, 1, 0, 1, 0, 0, 0, 0, 0, 1,\n",
      "        1, 0, 0, 1, 0, 1, 0, 0, 0, 0, 0, 0, 1, 1, 0, 1, 1, 1, 1, 0, 1, 0, 1, 1,\n",
      "        0, 1, 0, 1, 1, 0, 0, 0, 0, 0, 0, 1, 0, 0, 1, 0, 1, 0, 0, 0, 1, 0, 0, 1,\n",
      "        1, 0, 0, 0, 1, 0, 0, 0, 0, 0, 0, 1, 1, 1, 0, 0, 1, 1, 0, 0, 0, 0, 1, 1,\n",
      "        0, 1, 0, 0, 1, 1, 0, 1, 0, 1, 1, 1, 0, 1, 0, 0, 1, 1, 0, 1, 0, 0, 1, 0,\n",
      "        1, 1, 0, 1, 0, 1, 0, 0, 1, 0, 0, 1, 1, 0, 1, 0])\n"
     ]
    }
   ],
   "source": [
    "for inputs, targets in test_iter:\n",
    "  print(\"inputs:\", inputs)\n",
    "  print(\"targets:\", targets)\n",
    "  break"
   ]
  },
  {
   "cell_type": "code",
   "execution_count": 47,
   "metadata": {
    "colab": {
     "base_uri": "https://localhost:8080/"
    },
    "executionInfo": {
     "elapsed": 42094,
     "status": "ok",
     "timestamp": 1604380732733,
     "user": {
      "displayName": "Nabh Sanjay Mehta",
      "photoUrl": "https://lh3.googleusercontent.com/a-/AOh14Ghw8BSfwc8OzBGTM5fhbQReSUvJjndNEmYbz0NxwQ=s64",
      "userId": "07383015962707534051"
     },
     "user_tz": 360
    },
    "id": "zXRn8T3PxFeg",
    "outputId": "0d359392-4ee7-4e07-e67c-60d0bca6d7b7"
   },
   "outputs": [
    {
     "name": "stdout",
     "output_type": "stream",
     "text": [
      "cuda:0\n"
     ]
    }
   ],
   "source": [
    "device = torch.device(\"cuda:0\" if torch.cuda.is_available() else \"cpu\")\n",
    "print(device)"
   ]
  },
  {
   "cell_type": "code",
   "execution_count": 48,
   "metadata": {
    "executionInfo": {
     "elapsed": 42081,
     "status": "ok",
     "timestamp": 1604380732736,
     "user": {
      "displayName": "Nabh Sanjay Mehta",
      "photoUrl": "https://lh3.googleusercontent.com/a-/AOh14Ghw8BSfwc8OzBGTM5fhbQReSUvJjndNEmYbz0NxwQ=s64",
      "userId": "07383015962707534051"
     },
     "user_tz": 360
    },
    "id": "WozYt418xFkR"
   },
   "outputs": [],
   "source": [
    "# Define the model\n",
    "class RNN(nn.Module):\n",
    "  def __init__(self, n_vocab, embed_dim, n_hidden, n_rnnlayers, n_outputs):\n",
    "    super(RNN, self).__init__()\n",
    "    self.V = n_vocab\n",
    "    self.D = embed_dim\n",
    "    self.M = n_hidden\n",
    "    self.K = n_outputs\n",
    "    self.L = n_rnnlayers\n",
    "\n",
    "    self.embed = nn.Embedding(self.V, self.D)\n",
    "    self.rnn = nn.LSTM(\n",
    "        input_size=self.D,\n",
    "        hidden_size=self.M,\n",
    "        num_layers=self.L,\n",
    "        batch_first=True)\n",
    "    self.fc = nn.Linear(self.M, self.K)\n",
    "  \n",
    "  def forward(self, X):\n",
    "    # initial hidden states\n",
    "    h0 = torch.zeros(self.L, X.size(0), self.M).to(device)\n",
    "    c0 = torch.zeros(self.L, X.size(0), self.M).to(device)\n",
    "\n",
    "    # embedding layer\n",
    "    # turns word indexes into word vectors\n",
    "    out = self.embed(X)\n",
    "\n",
    "    # get RNN unit output\n",
    "    out, _ = self.rnn(out, (h0, c0))\n",
    "\n",
    "    # max pool\n",
    "    out, _ = torch.max(out, 1)\n",
    "\n",
    "    # we only want h(T) at the final time step\n",
    "    out = self.fc(out)\n",
    "    return out"
   ]
  },
  {
   "cell_type": "code",
   "execution_count": 49,
   "metadata": {
    "colab": {
     "base_uri": "https://localhost:8080/"
    },
    "executionInfo": {
     "elapsed": 55529,
     "status": "ok",
     "timestamp": 1604380746199,
     "user": {
      "displayName": "Nabh Sanjay Mehta",
      "photoUrl": "https://lh3.googleusercontent.com/a-/AOh14Ghw8BSfwc8OzBGTM5fhbQReSUvJjndNEmYbz0NxwQ=s64",
      "userId": "07383015962707534051"
     },
     "user_tz": 360
    },
    "id": "p4cKIe8sxFqR",
    "outputId": "321e4fe3-a8d4-4860-d81f-3cf1499f29ae"
   },
   "outputs": [
    {
     "data": {
      "text/plain": [
       "RNN(\n",
       "  (embed): Embedding(14272, 300)\n",
       "  (rnn): LSTM(300, 100, batch_first=True)\n",
       "  (fc): Linear(in_features=100, out_features=3, bias=True)\n",
       ")"
      ]
     },
     "execution_count": 49,
     "metadata": {
      "tags": []
     },
     "output_type": "execute_result"
    }
   ],
   "source": [
    "model = RNN(V+1, 300, 100, 1, 3) # V= len(vocab) + 1 for (padding)\n",
    "model.to(device)"
   ]
  },
  {
   "cell_type": "code",
   "execution_count": 50,
   "metadata": {
    "colab": {
     "base_uri": "https://localhost:8080/"
    },
    "executionInfo": {
     "elapsed": 55513,
     "status": "ok",
     "timestamp": 1604380746201,
     "user": {
      "displayName": "Nabh Sanjay Mehta",
      "photoUrl": "https://lh3.googleusercontent.com/a-/AOh14Ghw8BSfwc8OzBGTM5fhbQReSUvJjndNEmYbz0NxwQ=s64",
      "userId": "07383015962707534051"
     },
     "user_tz": 360
    },
    "id": "3D0a5KB4xFv2",
    "outputId": "ed627474-ed17-4e5a-dfdd-e562647c1c09"
   },
   "outputs": [
    {
     "name": "stdout",
     "output_type": "stream",
     "text": [
      "RNN(\n",
      "  (embed): Embedding(14272, 300)\n",
      "  (rnn): LSTM(300, 100, batch_first=True)\n",
      "  (fc): Linear(in_features=100, out_features=3, bias=True)\n",
      ")\n"
     ]
    }
   ],
   "source": [
    "print(model)"
   ]
  },
  {
   "cell_type": "code",
   "execution_count": 51,
   "metadata": {
    "colab": {
     "base_uri": "https://localhost:8080/"
    },
    "executionInfo": {
     "elapsed": 55495,
     "status": "ok",
     "timestamp": 1604380746203,
     "user": {
      "displayName": "Nabh Sanjay Mehta",
      "photoUrl": "https://lh3.googleusercontent.com/a-/AOh14Ghw8BSfwc8OzBGTM5fhbQReSUvJjndNEmYbz0NxwQ=s64",
      "userId": "07383015962707534051"
     },
     "user_tz": 360
    },
    "id": "oKpiNgyFxF6e",
    "outputId": "9dd4a4b4-b14a-48e7-c11b-3c8784d6c3fe"
   },
   "outputs": [
    {
     "name": "stdout",
     "output_type": "stream",
     "text": [
      "embed.weight torch.Size([14272, 300])\n",
      "rnn.weight_ih_l0 torch.Size([400, 300])\n",
      "rnn.weight_hh_l0 torch.Size([400, 100])\n",
      "rnn.bias_ih_l0 torch.Size([400])\n",
      "rnn.bias_hh_l0 torch.Size([400])\n",
      "fc.weight torch.Size([3, 100])\n",
      "fc.bias torch.Size([3])\n"
     ]
    }
   ],
   "source": [
    "for name, param in model.named_parameters():\n",
    "  print(name, param.shape)"
   ]
  },
  {
   "cell_type": "code",
   "execution_count": 52,
   "metadata": {
    "colab": {
     "base_uri": "https://localhost:8080/"
    },
    "executionInfo": {
     "elapsed": 139002,
     "status": "ok",
     "timestamp": 1604380829732,
     "user": {
      "displayName": "Nabh Sanjay Mehta",
      "photoUrl": "https://lh3.googleusercontent.com/a-/AOh14Ghw8BSfwc8OzBGTM5fhbQReSUvJjndNEmYbz0NxwQ=s64",
      "userId": "07383015962707534051"
     },
     "user_tz": 360
    },
    "id": "Tq7ZRoyZxF__",
    "outputId": "3a983a8a-5754-4311-c99b-c938097fbd3e"
   },
   "outputs": [
    {
     "name": "stdout",
     "output_type": "stream",
     "text": [
      "Epoch 1/65, Train Loss: 0.7063    Test Loss: 0.6634, Duration: 0:00:01.490683\n",
      "Epoch 2/65, Train Loss: 0.6409    Test Loss: 0.6506, Duration: 0:00:01.279411\n",
      "Epoch 3/65, Train Loss: 0.6327    Test Loss: 0.6427, Duration: 0:00:01.264833\n",
      "Epoch 4/65, Train Loss: 0.6277    Test Loss: 0.6407, Duration: 0:00:01.277945\n",
      "Epoch 5/65, Train Loss: 0.6247    Test Loss: 0.6371, Duration: 0:00:01.263438\n",
      "Epoch 6/65, Train Loss: 0.6206    Test Loss: 0.6351, Duration: 0:00:01.262783\n",
      "Epoch 7/65, Train Loss: 0.6179    Test Loss: 0.6330, Duration: 0:00:01.276571\n",
      "Epoch 8/65, Train Loss: 0.6139    Test Loss: 0.6349, Duration: 0:00:01.376868\n",
      "Epoch 9/65, Train Loss: 0.6096    Test Loss: 0.6329, Duration: 0:00:01.273635\n",
      "Epoch 10/65, Train Loss: 0.6049    Test Loss: 0.6292, Duration: 0:00:01.292015\n",
      "Epoch 11/65, Train Loss: 0.6004    Test Loss: 0.6242, Duration: 0:00:01.270034\n",
      "Epoch 12/65, Train Loss: 0.5956    Test Loss: 0.6234, Duration: 0:00:01.270217\n",
      "Epoch 13/65, Train Loss: 0.5905    Test Loss: 0.6188, Duration: 0:00:01.261470\n",
      "Epoch 14/65, Train Loss: 0.5850    Test Loss: 0.6175, Duration: 0:00:01.281212\n",
      "Epoch 15/65, Train Loss: 0.5780    Test Loss: 0.6135, Duration: 0:00:01.269371\n",
      "Epoch 16/65, Train Loss: 0.5718    Test Loss: 0.6135, Duration: 0:00:01.272129\n",
      "Epoch 17/65, Train Loss: 0.5650    Test Loss: 0.6125, Duration: 0:00:01.266158\n",
      "Epoch 18/65, Train Loss: 0.5567    Test Loss: 0.6045, Duration: 0:00:01.279906\n",
      "Epoch 19/65, Train Loss: 0.5509    Test Loss: 0.6016, Duration: 0:00:01.270779\n",
      "Epoch 20/65, Train Loss: 0.5435    Test Loss: 0.6050, Duration: 0:00:01.268913\n",
      "Epoch 21/65, Train Loss: 0.5357    Test Loss: 0.5966, Duration: 0:00:01.266107\n",
      "Epoch 22/65, Train Loss: 0.5281    Test Loss: 0.5949, Duration: 0:00:01.260385\n",
      "Epoch 23/65, Train Loss: 0.5212    Test Loss: 0.5959, Duration: 0:00:01.279710\n",
      "Epoch 24/65, Train Loss: 0.5136    Test Loss: 0.5911, Duration: 0:00:01.279293\n",
      "Epoch 25/65, Train Loss: 0.5057    Test Loss: 0.5890, Duration: 0:00:01.273019\n",
      "Epoch 26/65, Train Loss: 0.4976    Test Loss: 0.5910, Duration: 0:00:01.285706\n",
      "Epoch 27/65, Train Loss: 0.4908    Test Loss: 0.5839, Duration: 0:00:01.273856\n",
      "Epoch 28/65, Train Loss: 0.4829    Test Loss: 0.5831, Duration: 0:00:01.275602\n",
      "Epoch 29/65, Train Loss: 0.4751    Test Loss: 0.5814, Duration: 0:00:01.266347\n",
      "Epoch 30/65, Train Loss: 0.4673    Test Loss: 0.5892, Duration: 0:00:01.275406\n",
      "Epoch 31/65, Train Loss: 0.4591    Test Loss: 0.5913, Duration: 0:00:01.271679\n",
      "Epoch 32/65, Train Loss: 0.4517    Test Loss: 0.5798, Duration: 0:00:01.287203\n",
      "Epoch 33/65, Train Loss: 0.4433    Test Loss: 0.5784, Duration: 0:00:01.270036\n",
      "Epoch 34/65, Train Loss: 0.4353    Test Loss: 0.5775, Duration: 0:00:01.293369\n",
      "Epoch 35/65, Train Loss: 0.4275    Test Loss: 0.5769, Duration: 0:00:01.266690\n",
      "Epoch 36/65, Train Loss: 0.4196    Test Loss: 0.5755, Duration: 0:00:01.272767\n",
      "Epoch 37/65, Train Loss: 0.4108    Test Loss: 0.5750, Duration: 0:00:01.284099\n",
      "Epoch 38/65, Train Loss: 0.4030    Test Loss: 0.5748, Duration: 0:00:01.296037\n",
      "Epoch 39/65, Train Loss: 0.3944    Test Loss: 0.5868, Duration: 0:00:01.273962\n",
      "Epoch 40/65, Train Loss: 0.3865    Test Loss: 0.5791, Duration: 0:00:01.263577\n",
      "Epoch 41/65, Train Loss: 0.3785    Test Loss: 0.5748, Duration: 0:00:01.281850\n",
      "Epoch 42/65, Train Loss: 0.3704    Test Loss: 0.5739, Duration: 0:00:01.295523\n",
      "Epoch 43/65, Train Loss: 0.3617    Test Loss: 0.5751, Duration: 0:00:01.277871\n",
      "Epoch 44/65, Train Loss: 0.3537    Test Loss: 0.5756, Duration: 0:00:01.276830\n",
      "Epoch 45/65, Train Loss: 0.3448    Test Loss: 0.5807, Duration: 0:00:01.281492\n",
      "Epoch 46/65, Train Loss: 0.3364    Test Loss: 0.5831, Duration: 0:00:01.288589\n",
      "Epoch 47/65, Train Loss: 0.3287    Test Loss: 0.5778, Duration: 0:00:01.285233\n",
      "Epoch 48/65, Train Loss: 0.3202    Test Loss: 0.5856, Duration: 0:00:01.265179\n",
      "Epoch 49/65, Train Loss: 0.3122    Test Loss: 0.5801, Duration: 0:00:01.275257\n",
      "Epoch 50/65, Train Loss: 0.3048    Test Loss: 0.5809, Duration: 0:00:01.298449\n",
      "Epoch 51/65, Train Loss: 0.2965    Test Loss: 0.5850, Duration: 0:00:01.278326\n",
      "Epoch 52/65, Train Loss: 0.2882    Test Loss: 0.5896, Duration: 0:00:01.301009\n",
      "Epoch 53/65, Train Loss: 0.2806    Test Loss: 0.5853, Duration: 0:00:01.309506\n",
      "Epoch 54/65, Train Loss: 0.2727    Test Loss: 0.5959, Duration: 0:00:01.300037\n",
      "Epoch 55/65, Train Loss: 0.2648    Test Loss: 0.6012, Duration: 0:00:01.303709\n",
      "Epoch 56/65, Train Loss: 0.2581    Test Loss: 0.5901, Duration: 0:00:01.289537\n",
      "Epoch 57/65, Train Loss: 0.2504    Test Loss: 0.5931, Duration: 0:00:01.289044\n",
      "Epoch 58/65, Train Loss: 0.2434    Test Loss: 0.6019, Duration: 0:00:01.292184\n",
      "Epoch 59/65, Train Loss: 0.2357    Test Loss: 0.5955, Duration: 0:00:01.291926\n",
      "Epoch 60/65, Train Loss: 0.2289    Test Loss: 0.5997, Duration: 0:00:01.288225\n",
      "Epoch 61/65, Train Loss: 0.2225    Test Loss: 0.5999, Duration: 0:00:01.285225\n",
      "Epoch 62/65, Train Loss: 0.2153    Test Loss: 0.6019, Duration: 0:00:01.271857\n",
      "Epoch 63/65, Train Loss: 0.2086    Test Loss: 0.6011, Duration: 0:00:01.269726\n",
      "Epoch 64/65, Train Loss: 0.2025    Test Loss: 0.6129, Duration: 0:00:01.270997\n",
      "Epoch 65/65, Train Loss: 0.1962    Test Loss: 0.6175, Duration: 0:00:01.280889\n"
     ]
    }
   ],
   "source": [
    "learning_rate = 0.01\n",
    "epochs=65\n",
    "# STEP 5: INSTANTIATE LOSS CLASS\n",
    "criterion = nn.CrossEntropyLoss()\n",
    "\n",
    "# STEP 6: INSTANTIATE OPTIMIZER CLASS\n",
    "\n",
    "optimizer = torch.optim.SGD(model.parameters(), lr=learning_rate)\n",
    "\n",
    "# STEP 7: TRAIN THE MODEL\n",
    "\n",
    "train_losses= np.zeros(epochs)\n",
    "test_losses= np.zeros(epochs)\n",
    "\n",
    "\n",
    "for epoch in range(epochs):\n",
    "  \n",
    "  t0= datetime.now()\n",
    "  train_loss=[]\n",
    "  \n",
    "  model.train()\n",
    "  for input,targets in train_iter:\n",
    "    # load input and output to GPU\n",
    "    input = input.to(device)\n",
    "    targets= targets.to(device)\n",
    "    \n",
    "    # forward pass\n",
    "    output= model(input)\n",
    "    loss=criterion(output,targets)\n",
    "\n",
    "    # set gradients to zero \n",
    "    optimizer.zero_grad()\n",
    "\n",
    "    # backward pass\n",
    "    loss.backward()\n",
    "    optimizer.step()\n",
    "    train_loss.append(loss.item())\n",
    "  \n",
    "  train_loss=np.mean(train_loss)\n",
    "      \n",
    "  test_loss=[]\n",
    "  model.eval()\n",
    "  with torch.no_grad():\n",
    "    for input,targets in test_iter:\n",
    "      # load input and output to GPU\n",
    "      input = input.to(device)\n",
    "      targets= targets.to(device)\n",
    "      \n",
    "  \n",
    "      # forward pass\n",
    "      output= model(input)\n",
    "      loss=criterion(output,targets)\n",
    "      test_loss.append(loss.item())\n",
    "\n",
    "    test_loss=np.mean(test_loss)\n",
    "  \n",
    "  # save Losses\n",
    "  train_losses[epoch]= train_loss\n",
    "  test_losses[epoch]= test_loss\n",
    "  dt= datetime.now()-t0\n",
    "  print(f'Epoch {epoch+1}/{epochs}, Train Loss: {train_loss:.4f}    Test Loss: {test_loss:.4f}, Duration: {dt}')"
   ]
  },
  {
   "cell_type": "code",
   "execution_count": 53,
   "metadata": {
    "executionInfo": {
     "elapsed": 138990,
     "status": "ok",
     "timestamp": 1604380829737,
     "user": {
      "displayName": "Nabh Sanjay Mehta",
      "photoUrl": "https://lh3.googleusercontent.com/a-/AOh14Ghw8BSfwc8OzBGTM5fhbQReSUvJjndNEmYbz0NxwQ=s64",
      "userId": "07383015962707534051"
     },
     "user_tz": 360
    },
    "id": "4guOVhQ_xGF1"
   },
   "outputs": [],
   "source": [
    "# Accuracy- write a function to get accuracy\n",
    "# use this function to get train/test accuracy and print accuracy\n",
    "def get_accuracy(train_iter, test_iter, model):\n",
    "  model.eval()\n",
    "  with torch.no_grad():\n",
    "    correct_train=correct_test=0\n",
    "    total_train=total_test=0\n",
    "    \n",
    "    for input, targets in train_iter:\n",
    "      input= input.to(device)\n",
    "      targets= targets.to(device)\n",
    "      #input = input.view(-1, 784)\n",
    "      output=model(input)\n",
    "      _,indices = torch.max(output,dim=1)\n",
    "      correct_train+= (targets==indices).sum().item()\n",
    "      total_train += targets.shape[0]\n",
    "    \n",
    "    train_acc= correct_train/total_train\n",
    "\n",
    "    for input, targets in test_iter:\n",
    "      input= input.to(device)\n",
    "      targets= targets.to(device)\n",
    "      #input = input.view(-1, 784)\n",
    "      output=model(input)\n",
    "      _,indices = torch.max(output,dim=1)\n",
    "      correct_test+= (targets==indices).sum().item()\n",
    "      total_test += targets.shape[0]\n",
    "    \n",
    "    test_acc= correct_test/total_test\n",
    "    return train_acc, test_acc"
   ]
  },
  {
   "cell_type": "code",
   "execution_count": 54,
   "metadata": {
    "colab": {
     "base_uri": "https://localhost:8080/"
    },
    "executionInfo": {
     "elapsed": 139726,
     "status": "ok",
     "timestamp": 1604380830489,
     "user": {
      "displayName": "Nabh Sanjay Mehta",
      "photoUrl": "https://lh3.googleusercontent.com/a-/AOh14Ghw8BSfwc8OzBGTM5fhbQReSUvJjndNEmYbz0NxwQ=s64",
      "userId": "07383015962707534051"
     },
     "user_tz": 360
    },
    "id": "l9RibhdExGLi",
    "outputId": "4166e998-54da-4fde-e98f-fcd957d20c44"
   },
   "outputs": [
    {
     "name": "stdout",
     "output_type": "stream",
     "text": [
      "Train acc: 0.9633,\t Test acc: 0.7204\n"
     ]
    }
   ],
   "source": [
    "train_acc, test_acc = get_accuracy(train_iter, test_iter, model)\n",
    "print(f'Train acc: {train_acc:.4f},\\t Test acc: {test_acc:.4f}')"
   ]
  },
  {
   "cell_type": "code",
   "execution_count": 59,
   "metadata": {
    "executionInfo": {
     "elapsed": 687,
     "status": "ok",
     "timestamp": 1604381050778,
     "user": {
      "displayName": "Nabh Sanjay Mehta",
      "photoUrl": "https://lh3.googleusercontent.com/a-/AOh14Ghw8BSfwc8OzBGTM5fhbQReSUvJjndNEmYbz0NxwQ=s64",
      "userId": "07383015962707534051"
     },
     "user_tz": 360
    },
    "id": "VkOoV6phxGQ-"
   },
   "outputs": [],
   "source": [
    "# Write a function to get predictions\n",
    "\n",
    "def get_predictions(test_iter, model):\n",
    "  model.eval()\n",
    "  with torch.no_grad():\n",
    "    predictions= np.array([])\n",
    "    y_test= np.array([])\n",
    "\n",
    "    for batch in test_iter:\n",
    "      \n",
    "      output=model(batch.data)\n",
    "      _,indices = torch.max(output,dim=1)\n",
    "      predictions=np.concatenate((predictions,indices.cpu().numpy())) \n",
    "      y_test = np.concatenate((y_test,batch.label.cpu().numpy())) \n",
    "\n",
    "  return y_test, predictions"
   ]
  },
  {
   "cell_type": "code",
   "execution_count": 60,
   "metadata": {
    "colab": {
     "base_uri": "https://localhost:8080/",
     "height": 279
    },
    "executionInfo": {
     "elapsed": 387,
     "status": "error",
     "timestamp": 1604381051736,
     "user": {
      "displayName": "Nabh Sanjay Mehta",
      "photoUrl": "https://lh3.googleusercontent.com/a-/AOh14Ghw8BSfwc8OzBGTM5fhbQReSUvJjndNEmYbz0NxwQ=s64",
      "userId": "07383015962707534051"
     },
     "user_tz": 360
    },
    "id": "VBstNK8_4spc",
    "outputId": "70fd555a-5dc0-4cfe-9c30-2801c19f204f"
   },
   "outputs": [
    {
     "ename": "AttributeError",
     "evalue": "ignored",
     "output_type": "error",
     "traceback": [
      "\u001b[0;31m---------------------------------------------------------------------------\u001b[0m",
      "\u001b[0;31mAttributeError\u001b[0m                            Traceback (most recent call last)",
      "\u001b[0;32m<ipython-input-60-97df6b2fb9a6>\u001b[0m in \u001b[0;36m<module>\u001b[0;34m()\u001b[0m\n\u001b[0;32m----> 1\u001b[0;31m \u001b[0mpredictions\u001b[0m \u001b[0;34m=\u001b[0m \u001b[0mget_predictions\u001b[0m\u001b[0;34m(\u001b[0m\u001b[0mtestdata_iter\u001b[0m\u001b[0;34m,\u001b[0m \u001b[0mmodel\u001b[0m\u001b[0;34m)\u001b[0m\u001b[0;34m\u001b[0m\u001b[0;34m\u001b[0m\u001b[0m\n\u001b[0m",
      "\u001b[0;32m<ipython-input-59-9a95447eeb0d>\u001b[0m in \u001b[0;36mget_predictions\u001b[0;34m(test_iter, model)\u001b[0m\n\u001b[1;32m      9\u001b[0m     \u001b[0;32mfor\u001b[0m \u001b[0mbatch\u001b[0m \u001b[0;32min\u001b[0m \u001b[0mtest_iter\u001b[0m\u001b[0;34m:\u001b[0m\u001b[0;34m\u001b[0m\u001b[0;34m\u001b[0m\u001b[0m\n\u001b[1;32m     10\u001b[0m \u001b[0;34m\u001b[0m\u001b[0m\n\u001b[0;32m---> 11\u001b[0;31m       \u001b[0moutput\u001b[0m\u001b[0;34m=\u001b[0m\u001b[0mmodel\u001b[0m\u001b[0;34m(\u001b[0m\u001b[0mbatch\u001b[0m\u001b[0;34m.\u001b[0m\u001b[0mdata\u001b[0m\u001b[0;34m)\u001b[0m\u001b[0;34m\u001b[0m\u001b[0;34m\u001b[0m\u001b[0m\n\u001b[0m\u001b[1;32m     12\u001b[0m       \u001b[0m_\u001b[0m\u001b[0;34m,\u001b[0m\u001b[0mindices\u001b[0m \u001b[0;34m=\u001b[0m \u001b[0mtorch\u001b[0m\u001b[0;34m.\u001b[0m\u001b[0mmax\u001b[0m\u001b[0;34m(\u001b[0m\u001b[0moutput\u001b[0m\u001b[0;34m,\u001b[0m\u001b[0mdim\u001b[0m\u001b[0;34m=\u001b[0m\u001b[0;36m1\u001b[0m\u001b[0;34m)\u001b[0m\u001b[0;34m\u001b[0m\u001b[0;34m\u001b[0m\u001b[0m\n\u001b[1;32m     13\u001b[0m       \u001b[0mpredictions\u001b[0m\u001b[0;34m=\u001b[0m\u001b[0mnp\u001b[0m\u001b[0;34m.\u001b[0m\u001b[0mconcatenate\u001b[0m\u001b[0;34m(\u001b[0m\u001b[0;34m(\u001b[0m\u001b[0mpredictions\u001b[0m\u001b[0;34m,\u001b[0m\u001b[0mindices\u001b[0m\u001b[0;34m.\u001b[0m\u001b[0mcpu\u001b[0m\u001b[0;34m(\u001b[0m\u001b[0;34m)\u001b[0m\u001b[0;34m.\u001b[0m\u001b[0mnumpy\u001b[0m\u001b[0;34m(\u001b[0m\u001b[0;34m)\u001b[0m\u001b[0;34m)\u001b[0m\u001b[0;34m)\u001b[0m\u001b[0;34m\u001b[0m\u001b[0;34m\u001b[0m\u001b[0m\n",
      "\u001b[0;31mAttributeError\u001b[0m: 'list' object has no attribute 'data'"
     ]
    }
   ],
   "source": [
    "predictions = get_predictions(testdata_iter, model)"
   ]
  },
  {
   "cell_type": "code",
   "execution_count": null,
   "metadata": {
    "executionInfo": {
     "elapsed": 139863,
     "status": "aborted",
     "timestamp": 1604380830681,
     "user": {
      "displayName": "Nabh Sanjay Mehta",
      "photoUrl": "https://lh3.googleusercontent.com/a-/AOh14Ghw8BSfwc8OzBGTM5fhbQReSUvJjndNEmYbz0NxwQ=s64",
      "userId": "07383015962707534051"
     },
     "user_tz": 360
    },
    "id": "yfYLds-lxGWl"
   },
   "outputs": [],
   "source": [
    "y_test, predictions=get_predictions(test_iter, model)"
   ]
  },
  {
   "cell_type": "code",
   "execution_count": null,
   "metadata": {
    "executionInfo": {
     "elapsed": 139849,
     "status": "aborted",
     "timestamp": 1604380830684,
     "user": {
      "displayName": "Nabh Sanjay Mehta",
      "photoUrl": "https://lh3.googleusercontent.com/a-/AOh14Ghw8BSfwc8OzBGTM5fhbQReSUvJjndNEmYbz0NxwQ=s64",
      "userId": "07383015962707534051"
     },
     "user_tz": 360
    },
    "id": "-KRp-MbPxGT-"
   },
   "outputs": [],
   "source": [
    "predictions.max()"
   ]
  },
  {
   "cell_type": "code",
   "execution_count": null,
   "metadata": {
    "executionInfo": {
     "elapsed": 139838,
     "status": "aborted",
     "timestamp": 1604380830688,
     "user": {
      "displayName": "Nabh Sanjay Mehta",
      "photoUrl": "https://lh3.googleusercontent.com/a-/AOh14Ghw8BSfwc8OzBGTM5fhbQReSUvJjndNEmYbz0NxwQ=s64",
      "userId": "07383015962707534051"
     },
     "user_tz": 360
    },
    "id": "0Jr9IAKlxGOS"
   },
   "outputs": [],
   "source": [
    "# We are using confusion metrics from sklearn\n",
    "# we are done with model building and predictions\n",
    "# let us convert test data set to numpy arrays now\n",
    "\n",
    "#y_test=y_test.numpy()\n",
    "\n",
    "cm=confusion_matrix(y_test,predictions)\n",
    "cm"
   ]
  },
  {
   "cell_type": "code",
   "execution_count": null,
   "metadata": {
    "executionInfo": {
     "elapsed": 139824,
     "status": "aborted",
     "timestamp": 1604380830692,
     "user": {
      "displayName": "Nabh Sanjay Mehta",
      "photoUrl": "https://lh3.googleusercontent.com/a-/AOh14Ghw8BSfwc8OzBGTM5fhbQReSUvJjndNEmYbz0NxwQ=s64",
      "userId": "07383015962707534051"
     },
     "user_tz": 360
    },
    "id": "GkX3pu-ixGIe"
   },
   "outputs": [],
   "source": [
    "# Write a function to print confusion matrix\n",
    "# plot confusion matrix\n",
    "# need to import confusion_matrix from sklearn for this function to work\n",
    "# need to import seaborn as sns\n",
    "# import seaborn as sns\n",
    "# import matplotlib.pyplot as plt\n",
    "# from sklearn.metrics import confusion_matrix\n",
    "\n",
    "def plot_confusion_matrix(y_true,y_pred,normalize=None):\n",
    "  cm=confusion_matrix(y_true,y_pred,normalize=normalize)\n",
    "  fig, ax = plt.subplots(figsize=(6,5))\n",
    "  if normalize == None:\n",
    "    fmt='d'\n",
    "    fig.suptitle('Confusion matrix without Normalization', fontsize=12)\n",
    "        \n",
    "  else :\n",
    "    fmt='0.2f'\n",
    "    fig.suptitle('Normalized confusion matrix', fontsize=12)\n",
    "    \n",
    "  ax=sns.heatmap(cm,cmap=plt.cm.Blues,annot=True,fmt=fmt)\n",
    "  ax.axhline(y=0, color='k',linewidth=1)\n",
    "  ax.axhline(y=cm.shape[1], color='k',linewidth=2)\n",
    "  ax.axvline(x=0, color='k',linewidth=1)\n",
    "  ax.axvline(x=cm.shape[0], color='k',linewidth=2)\n",
    " \n",
    "  ax.set_xlabel('Predicted label', fontsize=12)\n",
    "  ax.set_ylabel('True label', fontsize=12)"
   ]
  },
  {
   "cell_type": "code",
   "execution_count": null,
   "metadata": {
    "executionInfo": {
     "elapsed": 139811,
     "status": "aborted",
     "timestamp": 1604380830695,
     "user": {
      "displayName": "Nabh Sanjay Mehta",
      "photoUrl": "https://lh3.googleusercontent.com/a-/AOh14Ghw8BSfwc8OzBGTM5fhbQReSUvJjndNEmYbz0NxwQ=s64",
      "userId": "07383015962707534051"
     },
     "user_tz": 360
    },
    "id": "tott8BT_xGC-"
   },
   "outputs": [],
   "source": [
    "plot_confusion_matrix(y_test,predictions)"
   ]
  },
  {
   "cell_type": "code",
   "execution_count": null,
   "metadata": {
    "executionInfo": {
     "elapsed": 139802,
     "status": "aborted",
     "timestamp": 1604380830698,
     "user": {
      "displayName": "Nabh Sanjay Mehta",
      "photoUrl": "https://lh3.googleusercontent.com/a-/AOh14Ghw8BSfwc8OzBGTM5fhbQReSUvJjndNEmYbz0NxwQ=s64",
      "userId": "07383015962707534051"
     },
     "user_tz": 360
    },
    "id": "3xYl1UZMxF39"
   },
   "outputs": [],
   "source": [
    "predictions.shape"
   ]
  },
  {
   "cell_type": "code",
   "execution_count": null,
   "metadata": {
    "executionInfo": {
     "elapsed": 139792,
     "status": "aborted",
     "timestamp": 1604380830700,
     "user": {
      "displayName": "Nabh Sanjay Mehta",
      "photoUrl": "https://lh3.googleusercontent.com/a-/AOh14Ghw8BSfwc8OzBGTM5fhbQReSUvJjndNEmYbz0NxwQ=s64",
      "userId": "07383015962707534051"
     },
     "user_tz": 360
    },
    "id": "Xa4eKi5AxFy1"
   },
   "outputs": [],
   "source": [
    "test_data = pd.read_csv('/content/test.csv', encoding = \"ISO-8859-1\")"
   ]
  },
  {
   "cell_type": "code",
   "execution_count": null,
   "metadata": {
    "executionInfo": {
     "elapsed": 139777,
     "status": "aborted",
     "timestamp": 1604380830702,
     "user": {
      "displayName": "Nabh Sanjay Mehta",
      "photoUrl": "https://lh3.googleusercontent.com/a-/AOh14Ghw8BSfwc8OzBGTM5fhbQReSUvJjndNEmYbz0NxwQ=s64",
      "userId": "07383015962707534051"
     },
     "user_tz": 360
    },
    "id": "DwEO_tJoxFs3"
   },
   "outputs": [],
   "source": [
    "data.shape"
   ]
  },
  {
   "cell_type": "code",
   "execution_count": null,
   "metadata": {
    "executionInfo": {
     "elapsed": 139767,
     "status": "aborted",
     "timestamp": 1604380830705,
     "user": {
      "displayName": "Nabh Sanjay Mehta",
      "photoUrl": "https://lh3.googleusercontent.com/a-/AOh14Ghw8BSfwc8OzBGTM5fhbQReSUvJjndNEmYbz0NxwQ=s64",
      "userId": "07383015962707534051"
     },
     "user_tz": 360
    },
    "id": "G8djfB-2xFnf"
   },
   "outputs": [],
   "source": [
    "pd.DataFrame({'Id': test_data.id[:2804], 'target': predictions}).to_csv('solution_base.csv', index =False)"
   ]
  },
  {
   "cell_type": "code",
   "execution_count": null,
   "metadata": {
    "executionInfo": {
     "elapsed": 139758,
     "status": "aborted",
     "timestamp": 1604380830708,
     "user": {
      "displayName": "Nabh Sanjay Mehta",
      "photoUrl": "https://lh3.googleusercontent.com/a-/AOh14Ghw8BSfwc8OzBGTM5fhbQReSUvJjndNEmYbz0NxwQ=s64",
      "userId": "07383015962707534051"
     },
     "user_tz": 360
    },
    "id": "dTA7H62OxFho"
   },
   "outputs": [],
   "source": [
    "pwd"
   ]
  },
  {
   "cell_type": "code",
   "execution_count": null,
   "metadata": {
    "executionInfo": {
     "elapsed": 139749,
     "status": "aborted",
     "timestamp": 1604380830712,
     "user": {
      "displayName": "Nabh Sanjay Mehta",
      "photoUrl": "https://lh3.googleusercontent.com/a-/AOh14Ghw8BSfwc8OzBGTM5fhbQReSUvJjndNEmYbz0NxwQ=s64",
      "userId": "07383015962707534051"
     },
     "user_tz": 360
    },
    "id": "mZEM_qjVu69s"
   },
   "outputs": [],
   "source": []
  },
  {
   "cell_type": "code",
   "execution_count": null,
   "metadata": {
    "executionInfo": {
     "elapsed": 139738,
     "status": "aborted",
     "timestamp": 1604380830714,
     "user": {
      "displayName": "Nabh Sanjay Mehta",
      "photoUrl": "https://lh3.googleusercontent.com/a-/AOh14Ghw8BSfwc8OzBGTM5fhbQReSUvJjndNEmYbz0NxwQ=s64",
      "userId": "07383015962707534051"
     },
     "user_tz": 360
    },
    "id": "rY7Frh8eu67F"
   },
   "outputs": [],
   "source": []
  },
  {
   "cell_type": "code",
   "execution_count": null,
   "metadata": {
    "executionInfo": {
     "elapsed": 139728,
     "status": "aborted",
     "timestamp": 1604380830716,
     "user": {
      "displayName": "Nabh Sanjay Mehta",
      "photoUrl": "https://lh3.googleusercontent.com/a-/AOh14Ghw8BSfwc8OzBGTM5fhbQReSUvJjndNEmYbz0NxwQ=s64",
      "userId": "07383015962707534051"
     },
     "user_tz": 360
    },
    "id": "0skEp-K1u64B"
   },
   "outputs": [],
   "source": []
  },
  {
   "cell_type": "code",
   "execution_count": null,
   "metadata": {
    "executionInfo": {
     "elapsed": 139718,
     "status": "aborted",
     "timestamp": 1604380830718,
     "user": {
      "displayName": "Nabh Sanjay Mehta",
      "photoUrl": "https://lh3.googleusercontent.com/a-/AOh14Ghw8BSfwc8OzBGTM5fhbQReSUvJjndNEmYbz0NxwQ=s64",
      "userId": "07383015962707534051"
     },
     "user_tz": 360
    },
    "id": "UYEqcEvRu61G"
   },
   "outputs": [],
   "source": []
  },
  {
   "cell_type": "code",
   "execution_count": null,
   "metadata": {
    "executionInfo": {
     "elapsed": 139708,
     "status": "aborted",
     "timestamp": 1604380830720,
     "user": {
      "displayName": "Nabh Sanjay Mehta",
      "photoUrl": "https://lh3.googleusercontent.com/a-/AOh14Ghw8BSfwc8OzBGTM5fhbQReSUvJjndNEmYbz0NxwQ=s64",
      "userId": "07383015962707534051"
     },
     "user_tz": 360
    },
    "id": "XhpEFfEpu6Wr"
   },
   "outputs": [],
   "source": []
  }
 ],
 "metadata": {
  "accelerator": "GPU",
  "colab": {
   "authorship_tag": "ABX9TyNBJUs81xhEhpntVoLJAYHF",
   "collapsed_sections": [],
   "name": "3.LSTM with RNN.ipynb",
   "provenance": [
    {
     "file_id": "184zfRnKgZOGpMu-ndfki2bd8og9u0GLN",
     "timestamp": 1604341249718
    }
   ]
  },
  "kernelspec": {
   "display_name": "Python 3",
   "language": "python",
   "name": "python3"
  },
  "language_info": {
   "codemirror_mode": {
    "name": "ipython",
    "version": 3
   },
   "file_extension": ".py",
   "mimetype": "text/x-python",
   "name": "python",
   "nbconvert_exporter": "python",
   "pygments_lexer": "ipython3",
   "version": "3.7.4"
  },
  "toc": {
   "base_numbering": 1,
   "nav_menu": {},
   "number_sections": true,
   "sideBar": true,
   "skip_h1_title": false,
   "title_cell": "Table of Contents",
   "title_sidebar": "Contents",
   "toc_cell": false,
   "toc_position": {},
   "toc_section_display": true,
   "toc_window_display": false
  }
 },
 "nbformat": 4,
 "nbformat_minor": 1
}
