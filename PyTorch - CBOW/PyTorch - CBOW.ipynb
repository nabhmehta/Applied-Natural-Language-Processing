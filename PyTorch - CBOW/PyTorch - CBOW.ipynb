{
 "cells": [
  {
   "cell_type": "markdown",
   "metadata": {
    "colab_type": "text",
    "id": "AZnlaL64yZpc"
   },
   "source": [
    "Reference: https://stackoverflow.com/questions/49433936/how-to-initialize-weights-in-pytorch"
   ]
  },
  {
   "cell_type": "code",
   "execution_count": null,
   "metadata": {
    "colab": {},
    "colab_type": "code",
    "id": "vf0Qta2RvI0o"
   },
   "outputs": [],
   "source": [
    "import torch\n",
    "import torch.nn as nn "
   ]
  },
  {
   "cell_type": "code",
   "execution_count": null,
   "metadata": {
    "colab": {
     "base_uri": "https://localhost:8080/",
     "height": 85
    },
    "colab_type": "code",
    "executionInfo": {
     "elapsed": 276,
     "status": "ok",
     "timestamp": 1600475092097,
     "user": {
      "displayName": "Nabh Sanjay Mehta",
      "photoUrl": "https://lh3.googleusercontent.com/a-/AOh14Ghw8BSfwc8OzBGTM5fhbQReSUvJjndNEmYbz0NxwQ=s64",
      "userId": "07383015962707534051"
     },
     "user_tz": 300
    },
    "id": "0HsAnaszvJQ6",
    "outputId": "f85e7ff4-4290-46da-9036-b6204a72fa6a"
   },
   "outputs": [
    {
     "name": "stdout",
     "output_type": "stream",
     "text": [
      "tensor([[1., 1., 1., 1.],\n",
      "        [1., 1., 1., 1.],\n",
      "        [1., 1., 1., 1.],\n",
      "        [1., 1., 1., 1.]])\n"
     ]
    }
   ],
   "source": [
    "input = torch.ones((4,4))\n",
    "print(input)"
   ]
  },
  {
   "cell_type": "code",
   "execution_count": null,
   "metadata": {
    "colab": {},
    "colab_type": "code",
    "id": "zWfXw0xbvJWv"
   },
   "outputs": [],
   "source": [
    "d = nn.Linear(4,4,bias=False)"
   ]
  },
  {
   "cell_type": "code",
   "execution_count": null,
   "metadata": {
    "colab": {
     "base_uri": "https://localhost:8080/",
     "height": 34
    },
    "colab_type": "code",
    "executionInfo": {
     "elapsed": 235,
     "status": "ok",
     "timestamp": 1600475131660,
     "user": {
      "displayName": "Nabh Sanjay Mehta",
      "photoUrl": "https://lh3.googleusercontent.com/a-/AOh14Ghw8BSfwc8OzBGTM5fhbQReSUvJjndNEmYbz0NxwQ=s64",
      "userId": "07383015962707534051"
     },
     "user_tz": 300
    },
    "id": "AfZLCxZhvJZX",
    "outputId": "990cdd2f-70e1-450e-c9ef-ab5fbb9d4829"
   },
   "outputs": [
    {
     "data": {
      "text/plain": [
       "Linear(in_features=4, out_features=4, bias=False)"
      ]
     },
     "execution_count": 7,
     "metadata": {
      "tags": []
     },
     "output_type": "execute_result"
    }
   ],
   "source": [
    "d"
   ]
  },
  {
   "cell_type": "code",
   "execution_count": null,
   "metadata": {
    "colab": {
     "base_uri": "https://localhost:8080/",
     "height": 85
    },
    "colab_type": "code",
    "executionInfo": {
     "elapsed": 317,
     "status": "ok",
     "timestamp": 1600475217897,
     "user": {
      "displayName": "Nabh Sanjay Mehta",
      "photoUrl": "https://lh3.googleusercontent.com/a-/AOh14Ghw8BSfwc8OzBGTM5fhbQReSUvJjndNEmYbz0NxwQ=s64",
      "userId": "07383015962707534051"
     },
     "user_tz": 300
    },
    "id": "oR12xulovJb0",
    "outputId": "4a02e35e-257e-42f7-fe89-674fd6d454f0"
   },
   "outputs": [
    {
     "name": "stdout",
     "output_type": "stream",
     "text": [
      "tensor([[0., 0., 0., 0.],\n",
      "        [0., 0., 0., 0.],\n",
      "        [0., 0., 0., 0.],\n",
      "        [0., 0., 0., 0.]])\n"
     ]
    }
   ],
   "source": [
    "d.weight.data=torch.full((4,4),0.0)\n",
    "print(d.weight.data)"
   ]
  },
  {
   "cell_type": "code",
   "execution_count": null,
   "metadata": {
    "colab": {
     "base_uri": "https://localhost:8080/",
     "height": 85
    },
    "colab_type": "code",
    "executionInfo": {
     "elapsed": 268,
     "status": "ok",
     "timestamp": 1600475234645,
     "user": {
      "displayName": "Nabh Sanjay Mehta",
      "photoUrl": "https://lh3.googleusercontent.com/a-/AOh14Ghw8BSfwc8OzBGTM5fhbQReSUvJjndNEmYbz0NxwQ=s64",
      "userId": "07383015962707534051"
     },
     "user_tz": 300
    },
    "id": "hXjoUOu8vJec",
    "outputId": "58005b11-9a0a-4122-835f-221166fdcc44"
   },
   "outputs": [
    {
     "data": {
      "text/plain": [
       "tensor([[0., 0., 0., 0.],\n",
       "        [0., 0., 0., 0.],\n",
       "        [0., 0., 0., 0.],\n",
       "        [0., 0., 0., 0.]], grad_fn=<MmBackward>)"
      ]
     },
     "execution_count": 10,
     "metadata": {
      "tags": []
     },
     "output_type": "execute_result"
    }
   ],
   "source": [
    "d(input)"
   ]
  },
  {
   "cell_type": "markdown",
   "metadata": {
    "colab_type": "text",
    "id": "_WqzzYJJvJhO"
   },
   "source": [
    "Answer: If we are initializing weights by 0.0, then the output matrix will also have zero\n",
    "\n",
    "1.   H=X*W1\n",
    "2.   O=H*W2\n",
    "\n"
   ]
  },
  {
   "cell_type": "code",
   "execution_count": null,
   "metadata": {
    "colab": {},
    "colab_type": "code",
    "id": "C10S9qllzL-G"
   },
   "outputs": [],
   "source": []
  }
 ],
 "metadata": {
  "colab": {
   "authorship_tag": "ABX9TyOayvH20PVS0+MHL1iNCN1C",
   "collapsed_sections": [],
   "name": "Assignment Q2 - Nabh Mehta.ipynb",
   "provenance": []
  },
  "kernelspec": {
   "display_name": "Python 3",
   "language": "python",
   "name": "python3"
  },
  "language_info": {
   "codemirror_mode": {
    "name": "ipython",
    "version": 3
   },
   "file_extension": ".py",
   "mimetype": "text/x-python",
   "name": "python",
   "nbconvert_exporter": "python",
   "pygments_lexer": "ipython3",
   "version": "3.7.4"
  },
  "toc": {
   "base_numbering": 1,
   "nav_menu": {},
   "number_sections": true,
   "sideBar": true,
   "skip_h1_title": false,
   "title_cell": "Table of Contents",
   "title_sidebar": "Contents",
   "toc_cell": false,
   "toc_position": {},
   "toc_section_display": true,
   "toc_window_display": false
  }
 },
 "nbformat": 4,
 "nbformat_minor": 1
}
